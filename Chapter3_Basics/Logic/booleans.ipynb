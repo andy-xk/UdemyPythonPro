{
 "nbformat": 4,
 "nbformat_minor": 2,
 "metadata": {
  "language_info": {
   "name": "python",
   "version": "3.8.10",
   "mimetype": "text/x-python",
   "codemirror_mode": {
    "name": "ipython",
    "version": 3
   },
   "pygments_lexer": "ipython3",
   "nbconvert_exporter": "python",
   "file_extension": ".py"
  },
  "orig_nbformat": 2,
  "file_extension": ".py",
  "mimetype": "text/x-python",
  "name": "python",
  "npconvert_exporter": "python",
  "pygments_lexer": "ipython3",
  "version": 3,
  "kernelspec": {
   "name": "python3",
   "display_name": "Python 3.8.10 64-bit"
  },
  "interpreter": {
   "hash": "4eab73af86a999baa7bf0153340022c78a9cea3be6d1f049b3c9a17993d56d0b"
  }
 },
 "cells": [
  {
   "cell_type": "code",
   "execution_count": 23,
   "source": [
    "import sys"
   ],
   "outputs": [],
   "metadata": {}
  },
  {
   "cell_type": "markdown",
   "source": [
    "# Booleans"
   ],
   "metadata": {}
  },
  {
   "cell_type": "code",
   "execution_count": 24,
   "source": [
    "my_bool = False\r\n",
    "print(sys.getsizeof(my_bool))"
   ],
   "outputs": [
    {
     "output_type": "stream",
     "name": "stdout",
     "text": [
      "24\n"
     ]
    }
   ],
   "metadata": {}
  },
  {
   "cell_type": "code",
   "execution_count": 25,
   "source": [
    "print(issubclass(bool, int))"
   ],
   "outputs": [
    {
     "output_type": "stream",
     "name": "stdout",
     "text": [
      "True\n"
     ]
    }
   ],
   "metadata": {}
  },
  {
   "cell_type": "code",
   "execution_count": 26,
   "source": [
    "print(isinstance(True, bool))\r\n",
    "print(isinstance(False, bool))"
   ],
   "outputs": [
    {
     "output_type": "stream",
     "name": "stdout",
     "text": [
      "True\n",
      "True\n"
     ]
    }
   ],
   "metadata": {}
  },
  {
   "cell_type": "code",
   "execution_count": 27,
   "source": [
    "print(isinstance(1, bool))\r\n",
    "print(isinstance(0, bool))"
   ],
   "outputs": [
    {
     "output_type": "stream",
     "name": "stdout",
     "text": [
      "False\n",
      "False\n"
     ]
    }
   ],
   "metadata": {}
  },
  {
   "cell_type": "markdown",
   "source": [
    "## Is vs. Equal\r\n",
    "\r\n",
    "<div style=\"font-size:1.5em;\">\r\n",
    "\r\n",
    "'is' and 'is not': memory (address) equality\r\n",
    "\r\n",
    "'==' and '!=': value equality\r\n",
    "\r\n",
    "\r\n",
    "Is: Identity operator (memory adresses)\r\n",
    "\r\n",
    "Value Equality: Operator to compare object values\r\n",
    "\r\n",
    "</div>"
   ],
   "metadata": {}
  },
  {
   "cell_type": "code",
   "execution_count": 28,
   "source": [
    "my_bool = True\r\n",
    "my_int = 1"
   ],
   "outputs": [],
   "metadata": {}
  },
  {
   "cell_type": "code",
   "execution_count": 29,
   "source": [
    "print(my_bool == my_int)"
   ],
   "outputs": [
    {
     "output_type": "stream",
     "name": "stdout",
     "text": [
      "True\n"
     ]
    }
   ],
   "metadata": {}
  },
  {
   "cell_type": "code",
   "execution_count": 30,
   "source": [
    "print(my_bool is my_int)"
   ],
   "outputs": [
    {
     "output_type": "stream",
     "name": "stdout",
     "text": [
      "False\n"
     ]
    }
   ],
   "metadata": {}
  },
  {
   "cell_type": "code",
   "execution_count": 31,
   "source": [
    "print(my_bool is True)\r\n",
    "print(my_bool is None)"
   ],
   "outputs": [
    {
     "output_type": "stream",
     "name": "stdout",
     "text": [
      "True\n",
      "False\n"
     ]
    }
   ],
   "metadata": {}
  },
  {
   "cell_type": "markdown",
   "source": [
    "## Boolean Evaluation\r\n",
    "\r\n",
    "<div style=\"font-size:1.5em;\">\r\n",
    "\r\n",
    "Every object of a built-in type has a Truth Value.  \r\n",
    "\r\n",
    "An instance is True if it is not: None, False, 0, or empty.  \r\n",
    "\r\n",
    "</div>\r\n"
   ],
   "metadata": {}
  },
  {
   "cell_type": "code",
   "execution_count": 32,
   "source": [
    "def print_truth_value(var):\r\n",
    "    print(bool(var))"
   ],
   "outputs": [],
   "metadata": {}
  },
  {
   "cell_type": "code",
   "execution_count": 33,
   "source": [
    "value1 = None\r\n",
    "value2 = 0\r\n",
    "value3 = False\r\n",
    "value4 = []"
   ],
   "outputs": [],
   "metadata": {}
  },
  {
   "cell_type": "code",
   "execution_count": 34,
   "source": [
    "print_truth_value(value1)\r\n",
    "print_truth_value(value2)\r\n",
    "print_truth_value(value3)\r\n",
    "print_truth_value(value4)"
   ],
   "outputs": [
    {
     "output_type": "stream",
     "name": "stdout",
     "text": [
      "False\n",
      "False\n",
      "False\n",
      "False\n"
     ]
    }
   ],
   "metadata": {}
  },
  {
   "cell_type": "code",
   "execution_count": 35,
   "source": [
    "value5 = 1\r\n",
    "value6 = True\r\n",
    "value7 = [1]"
   ],
   "outputs": [],
   "metadata": {}
  },
  {
   "cell_type": "code",
   "execution_count": 36,
   "source": [
    "print_truth_value(value5)\r\n",
    "print_truth_value(value6)\r\n",
    "print_truth_value(value7)"
   ],
   "outputs": [
    {
     "output_type": "stream",
     "name": "stdout",
     "text": [
      "True\n",
      "True\n",
      "True\n"
     ]
    }
   ],
   "metadata": {}
  },
  {
   "cell_type": "markdown",
   "source": [
    "## Boolean Comparison\r\n",
    "\r\n",
    "<div style=\"font-size:1.5em;\">\r\n",
    "\r\n",
    "Boolean operators: and, or, not\r\n",
    "\r\n",
    "Comparison operators: <, >, <=, >=, ==, !=\r\n",
    "\r\n",
    "</div>"
   ],
   "metadata": {}
  },
  {
   "cell_type": "markdown",
   "source": [
    "##  Operator order\r\n",
    "\r\n",
    "<div style=\"font-size:1.5em;\">\r\n",
    "\r\n",
    "1.) () - Paranthesis  \r\n",
    "\r\n",
    "2.) Comparison operators  \r\n",
    "\r\n",
    "3.) not  \r\n",
    "\r\n",
    "4.) and  \r\n",
    "\r\n",
    "5.) or  \r\n",
    "\r\n",
    "</div>"
   ],
   "metadata": {}
  },
  {
   "cell_type": "code",
   "execution_count": 37,
   "source": [
    "a = True\r\n",
    "b = False\r\n",
    "c = True"
   ],
   "outputs": [],
   "metadata": {}
  },
  {
   "cell_type": "code",
   "execution_count": 38,
   "source": [
    "check = a > b and c == a or not a and c\r\n",
    "print(check)"
   ],
   "outputs": [
    {
     "output_type": "stream",
     "name": "stdout",
     "text": [
      "True\n"
     ]
    }
   ],
   "metadata": {}
  },
  {
   "cell_type": "code",
   "execution_count": 39,
   "source": [
    "check2 = (a > b) and ((c == a) or (not a)) and c\r\n",
    "print(check2)"
   ],
   "outputs": [
    {
     "output_type": "stream",
     "name": "stdout",
     "text": [
      "True\n"
     ]
    }
   ],
   "metadata": {}
  },
  {
   "cell_type": "markdown",
   "source": [
    "## Boolean Shortcuts"
   ],
   "metadata": {}
  },
  {
   "cell_type": "code",
   "execution_count": 40,
   "source": [
    "A = True\r\n",
    "B = False"
   ],
   "outputs": [],
   "metadata": {}
  },
  {
   "cell_type": "code",
   "execution_count": 41,
   "source": [
    "def func_a(a):\r\n",
    "    print(\"Called func_a\")\r\n",
    "    return a"
   ],
   "outputs": [],
   "metadata": {}
  },
  {
   "cell_type": "code",
   "execution_count": 42,
   "source": [
    "def func_b(b):\r\n",
    "    print(\"Called func_b\")\r\n",
    "    return b"
   ],
   "outputs": [],
   "metadata": {}
  },
  {
   "cell_type": "code",
   "execution_count": 43,
   "source": [
    "if func_a(A) and func_b(B):\r\n",
    "    print(\"func_a(A) and func_b(B) => True\")"
   ],
   "outputs": [
    {
     "output_type": "stream",
     "name": "stdout",
     "text": [
      "Called func_a\n"
     ]
    }
   ],
   "metadata": {}
  },
  {
   "cell_type": "code",
   "execution_count": 44,
   "source": [
    "if func_a(A) or func_b(B):\r\n",
    "    print(\"func_a(A) or func_b(B) => True\")"
   ],
   "outputs": [
    {
     "output_type": "stream",
     "name": "stdout",
     "text": [
      "Called func_a\n",
      "Called func_b\n"
     ]
    }
   ],
   "metadata": {}
  }
 ]
}