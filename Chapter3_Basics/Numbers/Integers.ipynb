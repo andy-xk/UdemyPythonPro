{
 "cells": [
  {
   "cell_type": "code",
   "execution_count": 16,
   "source": [
    "import sys\r\n",
    "import math"
   ],
   "outputs": [],
   "metadata": {}
  },
  {
   "cell_type": "markdown",
   "source": [
    "# Integers"
   ],
   "metadata": {}
  },
  {
   "cell_type": "markdown",
   "source": [
    "<div style=\"font-size:1.5em;\">\r\n",
    "C/C++/Java: int 32bit/4Byte  \r\n",
    "\r\n",
    "Python: int object uses a variable number of bits  \r\n",
    "</div>"
   ],
   "metadata": {}
  },
  {
   "cell_type": "code",
   "execution_count": 17,
   "source": [
    "my_value = 42\r\n",
    "print(\"Integer size: \", sys.getsizeof(my_value))"
   ],
   "outputs": [
    {
     "output_type": "stream",
     "name": "stdout",
     "text": [
      "Integer size:  28\n"
     ]
    }
   ],
   "metadata": {}
  },
  {
   "cell_type": "code",
   "execution_count": 18,
   "source": [
    "my_value2 = 0\r\n",
    "print(\"Integer size: \", sys.getsizeof(my_value2))"
   ],
   "outputs": [
    {
     "output_type": "stream",
     "name": "stdout",
     "text": [
      "Integer size:  24\n"
     ]
    }
   ],
   "metadata": {}
  },
  {
   "cell_type": "code",
   "execution_count": 19,
   "source": [
    "my_value3 = 2**64\r\n",
    "print(\"Integer size: \", sys.getsizeof(my_value3))"
   ],
   "outputs": [
    {
     "output_type": "stream",
     "name": "stdout",
     "text": [
      "Integer size:  36\n"
     ]
    }
   ],
   "metadata": {}
  },
  {
   "cell_type": "markdown",
   "source": [
    "## Arithmetic Opretions\r\n",
    "\r\n",
    "<div style=\"font-size:1.5em;\">\r\n",
    "(int / int) => float\r\n",
    "</div>"
   ],
   "metadata": {}
  },
  {
   "cell_type": "code",
   "execution_count": 21,
   "source": [
    "result = 10 + 5\r\n",
    "print(\"Result: \", result, \" Type: \", type(result))\r\n",
    "\r\n",
    "result = 10 - 5\r\n",
    "print(\"Result: \", result, \" Type: \", type(result))\r\n",
    "\r\n",
    "result = 10 * 5\r\n",
    "print(\"Result: \", result, \" Type: \", type(result))\r\n",
    "\r\n",
    "result = 10 / 5\r\n",
    "print(\"Result: \", result, \" Type: \", type(result))"
   ],
   "outputs": [
    {
     "output_type": "stream",
     "name": "stdout",
     "text": [
      "Result:  15  Type:  <class 'int'>\n",
      "Result:  5  Type:  <class 'int'>\n",
      "Result:  50  Type:  <class 'int'>\n",
      "Result:  2.0  Type:  <class 'float'>\n"
     ]
    }
   ],
   "metadata": {}
  },
  {
   "cell_type": "code",
   "execution_count": 22,
   "source": [
    "result = 10 // 3\r\n",
    "print(\"Result: \", result, \" Type: \", type(result))"
   ],
   "outputs": [
    {
     "output_type": "stream",
     "name": "stdout",
     "text": [
      "Result:  3  Type:  <class 'int'>\n"
     ]
    }
   ],
   "metadata": {}
  },
  {
   "cell_type": "markdown",
   "source": [
    "## Float -> Int"
   ],
   "metadata": {}
  },
  {
   "cell_type": "code",
   "execution_count": 23,
   "source": [
    "my_float = -2.7\r\n",
    "print(my_float)\r\n",
    "my_int = int(my_float)\r\n",
    "print(my_int)"
   ],
   "outputs": [
    {
     "output_type": "stream",
     "name": "stdout",
     "text": [
      "-2.7\n",
      "-2\n"
     ]
    }
   ],
   "metadata": {}
  },
  {
   "cell_type": "markdown",
   "source": [
    "## (To-) Int Rounding\r\n",
    "\r\n",
    "<div style=\"font-size:1.5em;\">\r\n",
    "floor (abrunden)\r\n",
    "\r\n",
    "ceil (aufrunden)\r\n",
    "</div>"
   ],
   "metadata": {}
  },
  {
   "cell_type": "code",
   "execution_count": 25,
   "source": [
    "my_float2 = 2.7\r\n",
    "print(my_float2)\r\n",
    "my_int2 = math.floor(my_float2)\r\n",
    "print(my_int2)\r\n",
    "my_int3 = math.ceil(my_float2)\r\n",
    "print(my_int3)"
   ],
   "outputs": [
    {
     "output_type": "stream",
     "name": "stdout",
     "text": [
      "2.7\n",
      "2\n",
      "3\n"
     ]
    }
   ],
   "metadata": {}
  },
  {
   "cell_type": "code",
   "execution_count": 26,
   "source": [
    "my_float3 = -2.7\r\n",
    "print(my_float3)\r\n",
    "my_int4 = math.floor(my_float3)\r\n",
    "print(my_int4)\r\n",
    "my_int5 = math.ceil(my_float3)\r\n",
    "print(my_int5)"
   ],
   "outputs": [
    {
     "output_type": "stream",
     "name": "stdout",
     "text": [
      "-2.7\n",
      "-3\n",
      "-2\n"
     ]
    }
   ],
   "metadata": {}
  },
  {
   "cell_type": "markdown",
   "source": [
    "## Integer Bases\r\n",
    "\r\n",
    "<div style=\"font-size:1.5em;\">\r\n",
    "decimal: base 10\r\n",
    "\r\n",
    "binary: base 2\r\n",
    "\r\n",
    "hexa: base 16\r\n",
    "</div>"
   ],
   "metadata": {}
  },
  {
   "cell_type": "code",
   "execution_count": 27,
   "source": [
    "my_decimal = int(\"42\", base=10)\r\n",
    "print(\"Value: \", my_decimal)"
   ],
   "outputs": [
    {
     "output_type": "stream",
     "name": "stdout",
     "text": [
      "Value:  42\n"
     ]
    }
   ],
   "metadata": {}
  },
  {
   "cell_type": "code",
   "execution_count": 28,
   "source": [
    "my_hexadecimal = int(\"42\", base=16)\r\n",
    "print(\"Value: \", my_hexadecimal)"
   ],
   "outputs": [
    {
     "output_type": "stream",
     "name": "stdout",
     "text": [
      "Value:  66\n"
     ]
    }
   ],
   "metadata": {}
  },
  {
   "cell_type": "code",
   "execution_count": 30,
   "source": [
    "my_binary = int(\"101010\", base=2)\r\n",
    "print(\"Value: \", my_binary)"
   ],
   "outputs": [
    {
     "output_type": "stream",
     "name": "stdout",
     "text": [
      "Value:  42\n"
     ]
    }
   ],
   "metadata": {}
  },
  {
   "cell_type": "code",
   "execution_count": 35,
   "source": [
    "my_binary2 = int(\"0b101010\", base=0)\r\n",
    "print(\"Value: \", my_binary2)"
   ],
   "outputs": [
    {
     "output_type": "stream",
     "name": "stdout",
     "text": [
      "Value:  42\n"
     ]
    }
   ],
   "metadata": {}
  },
  {
   "cell_type": "code",
   "execution_count": 36,
   "source": [
    "my_binary3 = 0b101010\r\n",
    "print(\"Value: \", my_binary3)"
   ],
   "outputs": [
    {
     "output_type": "stream",
     "name": "stdout",
     "text": [
      "Value:  42\n"
     ]
    }
   ],
   "metadata": {}
  }
 ],
 "metadata": {
  "orig_nbformat": 4,
  "language_info": {
   "name": "python",
   "version": "3.8.10",
   "mimetype": "text/x-python",
   "codemirror_mode": {
    "name": "ipython",
    "version": 3
   },
   "pygments_lexer": "ipython3",
   "nbconvert_exporter": "python",
   "file_extension": ".py"
  },
  "kernelspec": {
   "name": "python3",
   "display_name": "Python 3.8.10 64-bit ('tensorflow': conda)"
  },
  "interpreter": {
   "hash": "4eab73af86a999baa7bf0153340022c78a9cea3be6d1f049b3c9a17993d56d0b"
  }
 },
 "nbformat": 4,
 "nbformat_minor": 2
}