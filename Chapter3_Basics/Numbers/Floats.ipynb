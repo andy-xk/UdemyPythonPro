{
 "cells": [
  {
   "cell_type": "markdown",
   "metadata": {},
   "source": [
    "## Imports"
   ]
  },
  {
   "cell_type": "code",
   "execution_count": 1,
   "metadata": {},
   "outputs": [],
   "source": [
    "import sys\n",
    "import math"
   ]
  },
  {
   "cell_type": "markdown",
   "metadata": {},
   "source": [
    "# Floats"
   ]
  },
  {
   "cell_type": "markdown",
   "metadata": {},
   "source": [
    "<div style=\"font-size:1.5em;\">\n",
    "\n",
    "C, C++, Java etc.: Float (32bits/4Byte), Double (64bits=8Byte)  \n",
    "\n",
    "Python: Float (64bits=8Byte)  \n",
    "\n",
    "sign: 1bit  \n",
    "exponent: 11bits  \n",
    "significant bits: 52bits\n",
    "</div>  \n"
   ]
  },
  {
   "cell_type": "code",
   "execution_count": 2,
   "metadata": {},
   "outputs": [
    {
     "data": {
      "text/plain": [
       "24"
      ]
     },
     "execution_count": 2,
     "metadata": {},
     "output_type": "execute_result"
    }
   ],
   "source": [
    "my_value = 42.000000000153\n",
    "\n",
    "sys.getsizeof(my_value)"
   ]
  },
  {
   "cell_type": "code",
   "execution_count": 3,
   "metadata": {},
   "outputs": [],
   "source": [
    "def float_print(value):\n",
    "    print(f\"{value:.32f}\")"
   ]
  },
  {
   "cell_type": "code",
   "execution_count": 4,
   "metadata": {},
   "outputs": [
    {
     "name": "stdout",
     "output_type": "stream",
     "text": [
      "42.000000000153\n"
     ]
    }
   ],
   "source": [
    "print(my_value)"
   ]
  },
  {
   "cell_type": "code",
   "execution_count": 5,
   "metadata": {},
   "outputs": [
    {
     "name": "stdout",
     "output_type": "stream",
     "text": [
      "42.00000000015300116729122237302363\n"
     ]
    }
   ],
   "source": [
    "float_print(my_value)"
   ]
  },
  {
   "cell_type": "code",
   "execution_count": 6,
   "metadata": {},
   "outputs": [
    {
     "name": "stdout",
     "output_type": "stream",
     "text": [
      "42.10000000000000142108547152020037\n"
     ]
    }
   ],
   "source": [
    "my_value2 = 42.1\n",
    "float_print(my_value2)"
   ]
  },
  {
   "cell_type": "markdown",
   "metadata": {},
   "source": [
    "# Float equality"
   ]
  },
  {
   "cell_type": "code",
   "execution_count": 7,
   "metadata": {},
   "outputs": [
    {
     "name": "stdout",
     "output_type": "stream",
     "text": [
      "0.01000000000000000020816681711722\n"
     ]
    }
   ],
   "source": [
    "my_fraction = 1/ 100\n",
    "float_print(my_fraction)"
   ]
  },
  {
   "cell_type": "code",
   "execution_count": 8,
   "metadata": {},
   "outputs": [
    {
     "name": "stdout",
     "output_type": "stream",
     "text": [
      "0.30000000000000004440892098500626\n"
     ]
    }
   ],
   "source": [
    "my_fraction2 = 1 / 10 + 1 / 10 + 1 / 10\n",
    "float_print(my_fraction2)"
   ]
  },
  {
   "cell_type": "code",
   "execution_count": 9,
   "metadata": {},
   "outputs": [
    {
     "name": "stdout",
     "output_type": "stream",
     "text": [
      "0.29999999999999998889776975374843\n"
     ]
    }
   ],
   "source": [
    "my_fraction3 = 0.3\n",
    "float_print(my_fraction3)"
   ]
  },
  {
   "cell_type": "code",
   "execution_count": 10,
   "metadata": {},
   "outputs": [],
   "source": [
    "def float_is_equal(x, y):\n",
    "    epsilon = 1e-15\n",
    "    difference = math.fabs(x - y)\n",
    "    is_equal = difference < epsilon\n",
    "    return is_equal"
   ]
  },
  {
   "cell_type": "code",
   "execution_count": 11,
   "metadata": {},
   "outputs": [
    {
     "data": {
      "text/plain": [
       "True"
      ]
     },
     "execution_count": 11,
     "metadata": {},
     "output_type": "execute_result"
    }
   ],
   "source": [
    "float_is_equal(my_fraction2, my_fraction3)"
   ]
  },
  {
   "cell_type": "code",
   "execution_count": 12,
   "metadata": {},
   "outputs": [
    {
     "data": {
      "text/plain": [
       "True"
      ]
     },
     "execution_count": 12,
     "metadata": {},
     "output_type": "execute_result"
    }
   ],
   "source": [
    "math.isclose(my_fraction2, my_fraction3, abs_tol=1e-15, rel_tol=1e-09)"
   ]
  },
  {
   "cell_type": "markdown",
   "metadata": {},
   "source": [
    "# Float Rounding"
   ]
  },
  {
   "cell_type": "code",
   "execution_count": 13,
   "metadata": {},
   "outputs": [
    {
     "name": "stdout",
     "output_type": "stream",
     "text": [
      "42.42424242420000268793955910950899\n"
     ]
    }
   ],
   "source": [
    "my_float = 42.4242424242\n",
    "float_print(my_float)"
   ]
  },
  {
   "cell_type": "code",
   "execution_count": 14,
   "metadata": {},
   "outputs": [
    {
     "name": "stdout",
     "output_type": "stream",
     "text": [
      "42.00000000000000000000000000000000\n"
     ]
    }
   ],
   "source": [
    "my_float_rounded = round(my_float)\n",
    "float_print(my_float_rounded)"
   ]
  },
  {
   "cell_type": "code",
   "execution_count": 15,
   "metadata": {},
   "outputs": [
    {
     "name": "stdout",
     "output_type": "stream",
     "text": [
      "42.42419999999999902229319559410214\n"
     ]
    }
   ],
   "source": [
    "my_float_rounded2 = round(my_float, 4)\n",
    "float_print(my_float_rounded2)"
   ]
  },
  {
   "cell_type": "code",
   "execution_count": 16,
   "metadata": {},
   "outputs": [
    {
     "name": "stdout",
     "output_type": "stream",
     "text": [
      "40.00000000000000000000000000000000\n"
     ]
    }
   ],
   "source": [
    "my_float_rounded3 = round(my_float, -1)\n",
    "float_print(my_float_rounded3)"
   ]
  }
 ],
 "metadata": {
  "interpreter": {
   "hash": "4eab73af86a999baa7bf0153340022c78a9cea3be6d1f049b3c9a17993d56d0b"
  },
  "kernelspec": {
   "display_name": "Python 3.8.10 64-bit ('tensorflow': conda)",
   "name": "python3"
  },
  "language_info": {
   "codemirror_mode": {
    "name": "ipython",
    "version": 3
   },
   "file_extension": ".py",
   "mimetype": "text/x-python",
   "name": "python",
   "nbconvert_exporter": "python",
   "pygments_lexer": "ipython3",
   "version": "3.8.10"
  },
  "orig_nbformat": 4
 },
 "nbformat": 4,
 "nbformat_minor": 2
}
