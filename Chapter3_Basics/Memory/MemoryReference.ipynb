{
 "cells": [
  {
   "cell_type": "code",
   "execution_count": 1,
   "metadata": {},
   "outputs": [],
   "source": [
    "import random\n",
    "random.seed(42)"
   ]
  },
  {
   "cell_type": "code",
   "execution_count": 2,
   "metadata": {},
   "outputs": [],
   "source": [
    "def print_memory_address(var):\n",
    "    print(hex(id(var)))"
   ]
  },
  {
   "cell_type": "markdown",
   "metadata": {},
   "source": [
    "### Variable Memory References"
   ]
  },
  {
   "cell_type": "code",
   "execution_count": 3,
   "metadata": {},
   "outputs": [
    {
     "name": "stdout",
     "output_type": "stream",
     "text": [
      "0x24ddf740210\n"
     ]
    }
   ],
   "source": [
    "my_value = 10  # int\n",
    "print_memory_address(my_value)"
   ]
  },
  {
   "cell_type": "code",
   "execution_count": 4,
   "metadata": {},
   "outputs": [
    {
     "name": "stdout",
     "output_type": "stream",
     "text": [
      "0x24ddf740250\n"
     ]
    }
   ],
   "source": [
    "my_value2 = 12\n",
    "print_memory_address(my_value2)"
   ]
  },
  {
   "cell_type": "code",
   "execution_count": 5,
   "metadata": {},
   "outputs": [],
   "source": [
    "my_int1 = 42\n",
    "my_int2 = 42\n",
    "my_int3 = 42"
   ]
  },
  {
   "cell_type": "code",
   "execution_count": 6,
   "metadata": {},
   "outputs": [
    {
     "name": "stdout",
     "output_type": "stream",
     "text": [
      "0x24ddf740610\n",
      "0x24ddf740610\n",
      "0x24ddf740610\n"
     ]
    }
   ],
   "source": [
    "print_memory_address(my_int1)\n",
    "print_memory_address(my_int2)\n",
    "print_memory_address(my_int3)"
   ]
  },
  {
   "cell_type": "code",
   "execution_count": 7,
   "metadata": {},
   "outputs": [],
   "source": [
    "my_bool1 = True\n",
    "my_bool2 = True\n",
    "my_bool3 = False\n",
    "my_bool4 = False"
   ]
  },
  {
   "cell_type": "code",
   "execution_count": 8,
   "metadata": {},
   "outputs": [
    {
     "name": "stdout",
     "output_type": "stream",
     "text": [
      "0x7ff9eae30870\n",
      "0x7ff9eae30870\n",
      "0x7ff9eae30890\n",
      "0x7ff9eae30890\n"
     ]
    }
   ],
   "source": [
    "print_memory_address(my_bool1)\n",
    "print_memory_address(my_bool2)\n",
    "print_memory_address(my_bool3)\n",
    "print_memory_address(my_bool4)"
   ]
  },
  {
   "cell_type": "code",
   "execution_count": 9,
   "metadata": {},
   "outputs": [],
   "source": [
    "my_float1 = 42.0\n",
    "my_float2 = 42.0\n",
    "my_float3 = 42.0"
   ]
  },
  {
   "cell_type": "code",
   "execution_count": 10,
   "metadata": {},
   "outputs": [
    {
     "name": "stdout",
     "output_type": "stream",
     "text": [
      "0x24de412b6b0\n",
      "0x24d8437ccb0\n",
      "0x24d8437cb30\n"
     ]
    }
   ],
   "source": [
    "print_memory_address(my_float1)\n",
    "print_memory_address(my_float2)\n",
    "print_memory_address(my_float3)"
   ]
  },
  {
   "cell_type": "markdown",
   "metadata": {},
   "source": [
    "- Int\n",
    "- Bool\n",
    "- None"
   ]
  },
  {
   "cell_type": "code",
   "execution_count": 11,
   "metadata": {},
   "outputs": [],
   "source": [
    "my_none1 = None\n",
    "my_none2 = None"
   ]
  },
  {
   "cell_type": "code",
   "execution_count": 12,
   "metadata": {},
   "outputs": [
    {
     "name": "stdout",
     "output_type": "stream",
     "text": [
      "0x7ff9eae42e40\n",
      "0x7ff9eae42e40\n"
     ]
    }
   ],
   "source": [
    "print_memory_address(my_none1)\n",
    "print_memory_address(my_none2)"
   ]
  },
  {
   "cell_type": "code",
   "execution_count": 13,
   "metadata": {},
   "outputs": [],
   "source": [
    "my_list1 = [1, 2, 3]\n",
    "my_list2 = my_list1"
   ]
  },
  {
   "cell_type": "code",
   "execution_count": 14,
   "metadata": {},
   "outputs": [
    {
     "name": "stdout",
     "output_type": "stream",
     "text": [
      "0x24d843846c0\n",
      "0x24d843846c0\n"
     ]
    }
   ],
   "source": [
    "print_memory_address(my_list1)\n",
    "print_memory_address(my_list2)"
   ]
  },
  {
   "cell_type": "code",
   "execution_count": 15,
   "metadata": {},
   "outputs": [],
   "source": [
    "my_list1[0] = -1"
   ]
  },
  {
   "cell_type": "code",
   "execution_count": 16,
   "metadata": {},
   "outputs": [
    {
     "name": "stdout",
     "output_type": "stream",
     "text": [
      "[-1, 2, 3]\n",
      "[-1, 2, 3]\n"
     ]
    }
   ],
   "source": [
    "print(my_list1)\n",
    "print(my_list2)"
   ]
  },
  {
   "cell_type": "code",
   "execution_count": 17,
   "metadata": {},
   "outputs": [],
   "source": [
    "my_list1 = []"
   ]
  },
  {
   "cell_type": "code",
   "execution_count": 18,
   "metadata": {},
   "outputs": [],
   "source": [
    "def append_random_value(l):\n",
    "    l.append(random.randint(-100, 100))"
   ]
  },
  {
   "cell_type": "code",
   "execution_count": 19,
   "metadata": {},
   "outputs": [
    {
     "name": "stdout",
     "output_type": "stream",
     "text": [
      "[63]\n"
     ]
    }
   ],
   "source": [
    "append_random_value(my_list1)\n",
    "\n",
    "print(my_list1)"
   ]
  },
  {
   "cell_type": "code",
   "execution_count": 20,
   "metadata": {},
   "outputs": [],
   "source": [
    "def square_list(l):\n",
    "    print_memory_address(l)\n",
    "    l = [val**2 for val in l]\n",
    "    print_memory_address(l)\n",
    "    return l"
   ]
  },
  {
   "cell_type": "code",
   "execution_count": 21,
   "metadata": {},
   "outputs": [
    {
     "name": "stdout",
     "output_type": "stream",
     "text": [
      "0x24d84384e00\n",
      "[1, 2, 3]\n",
      "0x24d84384e00\n",
      "0x24de4241580\n",
      "0x24de4241580\n",
      "[1, 4, 9]\n"
     ]
    }
   ],
   "source": [
    "my_list2 = [1, 2, 3]\n",
    "\n",
    "print_memory_address(my_list2)\n",
    "print(my_list2)\n",
    "\n",
    "my_list2 = square_list(my_list2)\n",
    "\n",
    "print_memory_address(my_list2)\n",
    "print(my_list2)"
   ]
  }
 ],
 "metadata": {
  "file_extension": ".py",
  "interpreter": {
   "hash": "ef4ce19910938c421491e84375c43d450a079a1a865d40a0bc82f335363ab876"
  },
  "kernelspec": {
   "display_name": "Python 3.10.4 ('pyUdemy')",
   "language": "python",
   "name": "python3"
  },
  "language_info": {
   "codemirror_mode": {
    "name": "ipython",
    "version": 3
   },
   "file_extension": ".py",
   "mimetype": "text/x-python",
   "name": "python",
   "nbconvert_exporter": "python",
   "pygments_lexer": "ipython3",
   "version": "3.10.4"
  },
  "mimetype": "text/x-python",
  "name": "python",
  "npconvert_exporter": "python",
  "orig_nbformat": 2,
  "pygments_lexer": "ipython3",
  "version": 3
 },
 "nbformat": 4,
 "nbformat_minor": 2
}
