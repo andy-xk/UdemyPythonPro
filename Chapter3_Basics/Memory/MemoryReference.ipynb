{
 "nbformat": 4,
 "nbformat_minor": 2,
 "metadata": {
  "language_info": {
   "name": "python",
   "version": "3.8.10",
   "mimetype": "text/x-python",
   "codemirror_mode": {
    "name": "ipython",
    "version": 3
   },
   "pygments_lexer": "ipython3",
   "nbconvert_exporter": "python",
   "file_extension": ".py"
  },
  "orig_nbformat": 2,
  "file_extension": ".py",
  "mimetype": "text/x-python",
  "name": "python",
  "npconvert_exporter": "python",
  "pygments_lexer": "ipython3",
  "version": 3,
  "kernelspec": {
   "name": "python3",
   "display_name": "Python 3.8.10 64-bit ('tensorflow': conda)"
  },
  "interpreter": {
   "hash": "4eab73af86a999baa7bf0153340022c78a9cea3be6d1f049b3c9a17993d56d0b"
  }
 },
 "cells": [
  {
   "cell_type": "code",
   "execution_count": 170,
   "source": [
    "import random\r\n",
    "random.seed(42)"
   ],
   "outputs": [],
   "metadata": {}
  },
  {
   "cell_type": "code",
   "execution_count": 171,
   "source": [
    "def print_memory_address(var):\r\n",
    "    print(hex(id(var)))"
   ],
   "outputs": [],
   "metadata": {}
  },
  {
   "cell_type": "markdown",
   "source": [
    "# Variable Memory References"
   ],
   "metadata": {}
  },
  {
   "cell_type": "code",
   "execution_count": 172,
   "source": [
    "my_value = 10  # int\r\n",
    "print_memory_address(my_value)"
   ],
   "outputs": [
    {
     "output_type": "stream",
     "name": "stdout",
     "text": [
      "0x7ffc2dd828b0\n"
     ]
    }
   ],
   "metadata": {}
  },
  {
   "cell_type": "code",
   "execution_count": 173,
   "source": [
    "my_value2 = 12\r\n",
    "print_memory_address(my_value2)"
   ],
   "outputs": [
    {
     "output_type": "stream",
     "name": "stdout",
     "text": [
      "0x7ffc2dd828f0\n"
     ]
    }
   ],
   "metadata": {}
  },
  {
   "cell_type": "code",
   "execution_count": 174,
   "source": [
    "my_int1 = 42\r\n",
    "my_int2 = 42\r\n",
    "my_int3 = 42"
   ],
   "outputs": [],
   "metadata": {}
  },
  {
   "cell_type": "code",
   "execution_count": 175,
   "source": [
    "print_memory_address(my_int1)\r\n",
    "print_memory_address(my_int2)\r\n",
    "print_memory_address(my_int3)"
   ],
   "outputs": [
    {
     "output_type": "stream",
     "name": "stdout",
     "text": [
      "0x7ffc2dd82cb0\n",
      "0x7ffc2dd82cb0\n",
      "0x7ffc2dd82cb0\n"
     ]
    }
   ],
   "metadata": {}
  },
  {
   "cell_type": "code",
   "execution_count": 176,
   "source": [
    "my_bool1 = True\r\n",
    "my_bool2 = True\r\n",
    "my_bool3 = False\r\n",
    "my_bool4 = False"
   ],
   "outputs": [],
   "metadata": {}
  },
  {
   "cell_type": "code",
   "execution_count": 177,
   "source": [
    "print_memory_address(my_bool1)\r\n",
    "print_memory_address(my_bool2)\r\n",
    "print_memory_address(my_bool3)\r\n",
    "print_memory_address(my_bool4)"
   ],
   "outputs": [
    {
     "output_type": "stream",
     "name": "stdout",
     "text": [
      "0x7ffc2dd3d750\n",
      "0x7ffc2dd3d750\n",
      "0x7ffc2dd3d770\n",
      "0x7ffc2dd3d770\n"
     ]
    }
   ],
   "metadata": {}
  },
  {
   "cell_type": "code",
   "execution_count": 178,
   "source": [
    "my_float1 = 42.0\r\n",
    "my_float2 = 42.0\r\n",
    "my_float3 = 42.0"
   ],
   "outputs": [],
   "metadata": {}
  },
  {
   "cell_type": "code",
   "execution_count": 179,
   "source": [
    "print_memory_address(my_float1)\r\n",
    "print_memory_address(my_float2)\r\n",
    "print_memory_address(my_float3)"
   ],
   "outputs": [
    {
     "output_type": "stream",
     "name": "stdout",
     "text": [
      "0x28af0b39fb0\n",
      "0x28acfdeaa90\n",
      "0x28af0b40510\n"
     ]
    }
   ],
   "metadata": {}
  },
  {
   "cell_type": "markdown",
   "source": [
    "- Int\r\n",
    "- Bool\r\n",
    "- None"
   ],
   "metadata": {}
  },
  {
   "cell_type": "code",
   "execution_count": 180,
   "source": [
    "my_none1 = None\r\n",
    "my_none2 = None"
   ],
   "outputs": [],
   "metadata": {}
  },
  {
   "cell_type": "code",
   "execution_count": 181,
   "source": [
    "print_memory_address(my_none1)\r\n",
    "print_memory_address(my_none2)"
   ],
   "outputs": [
    {
     "output_type": "stream",
     "name": "stdout",
     "text": [
      "0x7ffc2dd49880\n",
      "0x7ffc2dd49880\n"
     ]
    }
   ],
   "metadata": {}
  },
  {
   "cell_type": "code",
   "execution_count": 182,
   "source": [
    "my_list1 = [1, 2, 3]\r\n",
    "my_list2 = my_list1"
   ],
   "outputs": [],
   "metadata": {}
  },
  {
   "cell_type": "code",
   "execution_count": 183,
   "source": [
    "print_memory_address(my_list1)\r\n",
    "print_memory_address(my_list2)"
   ],
   "outputs": [
    {
     "output_type": "stream",
     "name": "stdout",
     "text": [
      "0x28af0b31e00\n",
      "0x28af0b31e00\n"
     ]
    }
   ],
   "metadata": {}
  },
  {
   "cell_type": "code",
   "execution_count": 184,
   "source": [
    "my_list1[0] = -1"
   ],
   "outputs": [],
   "metadata": {}
  },
  {
   "cell_type": "code",
   "execution_count": 185,
   "source": [
    "print(my_list1)\r\n",
    "print(my_list2)"
   ],
   "outputs": [
    {
     "output_type": "stream",
     "name": "stdout",
     "text": [
      "[-1, 2, 3]\n",
      "[-1, 2, 3]\n"
     ]
    }
   ],
   "metadata": {}
  },
  {
   "cell_type": "code",
   "execution_count": 186,
   "source": [
    "my_list1 = []"
   ],
   "outputs": [],
   "metadata": {}
  },
  {
   "cell_type": "code",
   "execution_count": 187,
   "source": [
    "def append_random_value(l):\r\n",
    "    l.append(random.randint(-100, 100))"
   ],
   "outputs": [],
   "metadata": {}
  },
  {
   "cell_type": "code",
   "execution_count": 188,
   "source": [
    "append_random_value(my_list1)\r\n",
    "\r\n",
    "print(my_list1)"
   ],
   "outputs": [
    {
     "output_type": "stream",
     "name": "stdout",
     "text": [
      "[63]\n"
     ]
    }
   ],
   "metadata": {}
  },
  {
   "cell_type": "code",
   "execution_count": 189,
   "source": [
    "def square_list(l):\r\n",
    "    print_memory_address(l)\r\n",
    "    l = [val**2 for val in l]\r\n",
    "    print_memory_address(l)\r\n",
    "    return l"
   ],
   "outputs": [],
   "metadata": {}
  },
  {
   "cell_type": "code",
   "execution_count": 190,
   "source": [
    "my_list2 = [1, 2, 3]\r\n",
    "\r\n",
    "print_memory_address(my_list2)\r\n",
    "print(my_list2)\r\n",
    "\r\n",
    "my_list2 = square_list(my_list2)\r\n",
    "\r\n",
    "print_memory_address(my_list2)\r\n",
    "print(my_list2)"
   ],
   "outputs": [
    {
     "output_type": "stream",
     "name": "stdout",
     "text": [
      "0x28af0b3fc40\n",
      "[1, 2, 3]\n",
      "0x28af0b3fc40\n",
      "0x28acfe03b40\n",
      "0x28af0b3fc40\n",
      "[1, 2, 3]\n"
     ]
    }
   ],
   "metadata": {}
  }
 ]
}