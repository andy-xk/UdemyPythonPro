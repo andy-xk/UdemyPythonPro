{
 "cells": [
  {
   "cell_type": "code",
   "execution_count": 22,
   "metadata": {},
   "outputs": [],
   "source": [
    "import copy"
   ]
  },
  {
   "cell_type": "code",
   "execution_count": 23,
   "metadata": {},
   "outputs": [],
   "source": [
    "def print_memory_address(var):\n",
    "    print(hex(id(var) % 0xFFFF))"
   ]
  },
  {
   "cell_type": "markdown",
   "metadata": {},
   "source": [
    "### In-Place Functions"
   ]
  },
  {
   "cell_type": "markdown",
   "metadata": {},
   "source": [
    "### Immutable Types"
   ]
  },
  {
   "cell_type": "code",
   "execution_count": 24,
   "metadata": {},
   "outputs": [
    {
     "name": "stdout",
     "output_type": "stream",
     "text": [
      "0x10fc\n",
      "0x113c\n",
      "12\n"
     ]
    }
   ],
   "source": [
    "my_number = 10\n",
    "increment = 2\n",
    "\n",
    "print_memory_address(my_number)\n",
    "my_number = my_number + increment\n",
    "print_memory_address(my_number)\n",
    "\n",
    "print(my_number)"
   ]
  },
  {
   "cell_type": "code",
   "execution_count": 25,
   "metadata": {},
   "outputs": [
    {
     "name": "stdout",
     "output_type": "stream",
     "text": [
      "0x10fc\n",
      "0x113c\n",
      "12\n"
     ]
    }
   ],
   "source": [
    "my_number2 = 10\n",
    "increment2 = 2\n",
    "\n",
    "print_memory_address(my_number2)\n",
    "my_number2 += increment2\n",
    "print_memory_address(my_number2)\n",
    "\n",
    "print(my_number2)"
   ]
  },
  {
   "cell_type": "markdown",
   "metadata": {},
   "source": [
    "### Mutable Types (but not In-Place)"
   ]
  },
  {
   "cell_type": "code",
   "execution_count": 26,
   "metadata": {},
   "outputs": [],
   "source": [
    "def inc_list(lst, inc_value):\n",
    "    for value in lst:\n",
    "        value = value + inc_value\n",
    "    return lst"
   ]
  },
  {
   "cell_type": "code",
   "execution_count": 27,
   "metadata": {},
   "outputs": [
    {
     "name": "stdout",
     "output_type": "stream",
     "text": [
      "0x7f24\n",
      "0x7f24\n",
      "[1, 2, 3]\n"
     ]
    }
   ],
   "source": [
    "my_list = [1, 2, 3]\n",
    "increment = 2\n",
    "\n",
    "print_memory_address(my_list)\n",
    "my_list = inc_list(my_list, increment)\n",
    "print_memory_address(my_list)\n",
    "\n",
    "print(my_list)"
   ]
  },
  {
   "cell_type": "code",
   "execution_count": 28,
   "metadata": {},
   "outputs": [],
   "source": [
    "def inc_list(lst, inc_value):\n",
    "    for idx in range(len(lst)):\n",
    "        lst[idx] = lst[idx] + inc_value"
   ]
  },
  {
   "cell_type": "code",
   "execution_count": 29,
   "metadata": {},
   "outputs": [
    {
     "name": "stdout",
     "output_type": "stream",
     "text": [
      "0x71c4\n",
      "0xfdc\n",
      "0x71c4\n",
      "0x101c\n",
      "[3, 4, 5]\n"
     ]
    }
   ],
   "source": [
    "my_list2 = [1, 2, 3]\n",
    "increment2 = 2\n",
    "\n",
    "print_memory_address(my_list2)\n",
    "print_memory_address(my_list2[0])\n",
    "inc_list(my_list2, increment2)\n",
    "print_memory_address(my_list2)\n",
    "print_memory_address(my_list2[0])\n",
    "\n",
    "print(my_list2)"
   ]
  },
  {
   "cell_type": "code",
   "execution_count": 30,
   "metadata": {},
   "outputs": [],
   "source": [
    "def concat_lists(l1, l2):\n",
    "    return l1 + l2"
   ]
  },
  {
   "cell_type": "code",
   "execution_count": 31,
   "metadata": {},
   "outputs": [
    {
     "name": "stdout",
     "output_type": "stream",
     "text": [
      "0x8764\n",
      "0x6e23\n",
      "[1, 2]\n",
      "[1, 2, 3, 4]\n",
      "0x85a4\n",
      "0x6e23\n"
     ]
    }
   ],
   "source": [
    "l1 = [1, 2]\n",
    "l2 = [3, 4]\n",
    "\n",
    "print_memory_address(l1)\n",
    "print_memory_address(l2)\n",
    "print(l1)\n",
    "l1 = concat_lists(l1, l2)\n",
    "print(l1)\n",
    "print_memory_address(l1)\n",
    "print_memory_address(l2)"
   ]
  },
  {
   "cell_type": "markdown",
   "metadata": {},
   "source": [
    "### In-Place on Mutable Types"
   ]
  },
  {
   "cell_type": "code",
   "execution_count": 32,
   "metadata": {},
   "outputs": [],
   "source": [
    "def concat_lists_inplace(l1, l2):\n",
    "    l1 += l2"
   ]
  },
  {
   "cell_type": "code",
   "execution_count": 33,
   "metadata": {},
   "outputs": [
    {
     "name": "stdout",
     "output_type": "stream",
     "text": [
      "0x89f8\n",
      "0x9dd5\n",
      "[1, 2]\n",
      "[1, 2, 3, 4]\n",
      "0x89f8\n",
      "0x9dd5\n"
     ]
    }
   ],
   "source": [
    "l3 = [1, 2]\n",
    "l4 = [3, 4]\n",
    "\n",
    "print_memory_address(l3)\n",
    "print_memory_address(l4)\n",
    "print(l3)\n",
    "concat_lists_inplace(l3, l4)\n",
    "print(l3)\n",
    "print_memory_address(l3)\n",
    "print_memory_address(l4)"
   ]
  },
  {
   "cell_type": "markdown",
   "metadata": {},
   "source": [
    "### Shallow and Deep Copy"
   ]
  },
  {
   "cell_type": "markdown",
   "metadata": {},
   "source": [
    "#### Shallow Copy"
   ]
  },
  {
   "cell_type": "code",
   "execution_count": 34,
   "metadata": {},
   "outputs": [
    {
     "name": "stdout",
     "output_type": "stream",
     "text": [
      "0xa4a4\n",
      "0xd116\n",
      "0xfdc\n",
      "[[1, 2], [3, 4]]\n"
     ]
    }
   ],
   "source": [
    "list1 = [[1, 2], [3, 4]]\n",
    "\n",
    "print_memory_address(list1)\n",
    "print_memory_address(list1[0])\n",
    "print_memory_address(list1[0][0])\n",
    "print(list1)"
   ]
  },
  {
   "cell_type": "code",
   "execution_count": 35,
   "metadata": {},
   "outputs": [
    {
     "name": "stdout",
     "output_type": "stream",
     "text": [
      "0xa4a4\n",
      "0xd116\n",
      "0x10fc\n",
      "[[10, 2], [3, 4]]\n"
     ]
    }
   ],
   "source": [
    "list1[0][0] = 10\n",
    "\n",
    "print_memory_address(list1)\n",
    "print_memory_address(list1[0])\n",
    "print_memory_address(list1[0][0])\n",
    "print(list1)"
   ]
  },
  {
   "cell_type": "code",
   "execution_count": 36,
   "metadata": {},
   "outputs": [
    {
     "name": "stdout",
     "output_type": "stream",
     "text": [
      "0xa4a4\n",
      "0xace2\n",
      "[[-1, -2], [3, 4]]\n"
     ]
    }
   ],
   "source": [
    "list1[0] = [-1, -2]\n",
    "\n",
    "print_memory_address(list1)\n",
    "print_memory_address(list1[0])\n",
    "print(list1)"
   ]
  },
  {
   "cell_type": "code",
   "execution_count": 37,
   "metadata": {},
   "outputs": [
    {
     "name": "stdout",
     "output_type": "stream",
     "text": [
      "0x1094\n",
      "0xace2\n",
      "[[-1, -2], [3, 4]]\n"
     ]
    }
   ],
   "source": [
    "list2 = copy.copy(list1)\n",
    "\n",
    "print_memory_address(list2)\n",
    "print_memory_address(list2[0])\n",
    "print(list2)"
   ]
  },
  {
   "cell_type": "code",
   "execution_count": 38,
   "metadata": {},
   "outputs": [
    {
     "name": "stdout",
     "output_type": "stream",
     "text": [
      "0x1094\n",
      "0xace2\n",
      "[[10, -2], [3, 4]]\n"
     ]
    }
   ],
   "source": [
    "list2[0][0] = 10\n",
    "\n",
    "print_memory_address(list2)\n",
    "print_memory_address(list2[0])\n",
    "print(list2)"
   ]
  },
  {
   "cell_type": "code",
   "execution_count": 39,
   "metadata": {},
   "outputs": [
    {
     "name": "stdout",
     "output_type": "stream",
     "text": [
      "0xa4a4\n",
      "0xace2\n",
      "[[10, -2], [3, 4]]\n"
     ]
    }
   ],
   "source": [
    "print_memory_address(list1)\n",
    "print_memory_address(list1[0])\n",
    "print(list1)"
   ]
  },
  {
   "cell_type": "markdown",
   "metadata": {},
   "source": [
    "#### Deep Copy"
   ]
  },
  {
   "cell_type": "code",
   "execution_count": 40,
   "metadata": {},
   "outputs": [
    {
     "name": "stdout",
     "output_type": "stream",
     "text": [
      "0x81a4\n",
      "0xcd14\n",
      "[[10, -2], [3, 4]]\n"
     ]
    }
   ],
   "source": [
    "list3 = copy.deepcopy(list1)\n",
    "\n",
    "print_memory_address(list3)\n",
    "print_memory_address(list3[0])\n",
    "print(list3)"
   ]
  },
  {
   "cell_type": "code",
   "execution_count": 41,
   "metadata": {},
   "outputs": [
    {
     "name": "stdout",
     "output_type": "stream",
     "text": [
      "0x81a4\n",
      "0xcd14\n",
      "[[-10, -2], [3, 4]]\n"
     ]
    }
   ],
   "source": [
    "list3[0][0] = -10\n",
    "\n",
    "print_memory_address(list3)\n",
    "print_memory_address(list3[0])\n",
    "print(list3)"
   ]
  },
  {
   "cell_type": "code",
   "execution_count": 42,
   "metadata": {},
   "outputs": [
    {
     "name": "stdout",
     "output_type": "stream",
     "text": [
      "0xa4a4\n",
      "0xace2\n",
      "[[10, -2], [3, 4]]\n"
     ]
    }
   ],
   "source": [
    "print_memory_address(list1)\n",
    "print_memory_address(list1[0])\n",
    "print(list1)"
   ]
  }
 ],
 "metadata": {
  "interpreter": {
   "hash": "ef4ce19910938c421491e84375c43d450a079a1a865d40a0bc82f335363ab876"
  },
  "kernelspec": {
   "display_name": "Python 3.10.4 ('pyUdemy')",
   "language": "python",
   "name": "python3"
  },
  "language_info": {
   "codemirror_mode": {
    "name": "ipython",
    "version": 3
   },
   "file_extension": ".py",
   "mimetype": "text/x-python",
   "name": "python",
   "nbconvert_exporter": "python",
   "pygments_lexer": "ipython3",
   "version": "3.10.4"
  },
  "orig_nbformat": 2
 },
 "nbformat": 4,
 "nbformat_minor": 2
}
