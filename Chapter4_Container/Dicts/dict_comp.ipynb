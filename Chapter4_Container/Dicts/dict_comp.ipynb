{
 "nbformat": 4,
 "nbformat_minor": 2,
 "metadata": {
  "language_info": {
   "name": "python",
   "version": "3.8.10",
   "mimetype": "text/x-python",
   "codemirror_mode": {
    "name": "ipython",
    "version": 3
   },
   "pygments_lexer": "ipython3",
   "nbconvert_exporter": "python",
   "file_extension": ".py"
  },
  "orig_nbformat": 2,
  "file_extension": ".py",
  "mimetype": "text/x-python",
  "name": "python",
  "npconvert_exporter": "python",
  "pygments_lexer": "ipython3",
  "version": 3,
  "kernelspec": {
   "name": "python3",
   "display_name": "Python 3.8.10 64-bit ('tensorflow': conda)"
  },
  "interpreter": {
   "hash": "4eab73af86a999baa7bf0153340022c78a9cea3be6d1f049b3c9a17993d56d0b"
  }
 },
 "cells": [
  {
   "cell_type": "markdown",
   "source": [
    "# Dict Comprehension"
   ],
   "metadata": {}
  },
  {
   "cell_type": "code",
   "execution_count": 8,
   "source": [
    "my_dict1 = {}\r\n",
    "\r\n",
    "for i in range(5):\r\n",
    "    my_dict1[i] = i**2\r\n",
    "\r\n",
    "print(my_dict1)"
   ],
   "outputs": [
    {
     "output_type": "stream",
     "name": "stdout",
     "text": [
      "{0: 0, 1: 1, 2: 4, 3: 9, 4: 16}\n"
     ]
    }
   ],
   "metadata": {}
  },
  {
   "cell_type": "code",
   "execution_count": 9,
   "source": [
    "my_dict2 = {i: i**2 for i in range(5)}\r\n",
    "\r\n",
    "print(my_dict2)"
   ],
   "outputs": [
    {
     "output_type": "stream",
     "name": "stdout",
     "text": [
      "{0: 0, 1: 1, 2: 4, 3: 9, 4: 16}\n"
     ]
    }
   ],
   "metadata": {}
  },
  {
   "cell_type": "code",
   "execution_count": 10,
   "source": [
    "my_dict3 = {}\r\n",
    "\r\n",
    "for i in range(5):\r\n",
    "    if i > 3:\r\n",
    "        my_dict3[i] = i**2\r\n",
    "    else:\r\n",
    "        my_dict3[i] = -(i**2)\r\n",
    "\r\n",
    "print(my_dict3)"
   ],
   "outputs": [
    {
     "output_type": "stream",
     "name": "stdout",
     "text": [
      "{0: 0, 1: -1, 2: -4, 3: -9, 4: 16}\n"
     ]
    }
   ],
   "metadata": {}
  },
  {
   "cell_type": "code",
   "execution_count": 11,
   "source": [
    "my_dict4 = {i: i**2 if i > 3 else -(i**2) for i in range(5)}\r\n",
    "\r\n",
    "print(my_dict4)"
   ],
   "outputs": [
    {
     "output_type": "stream",
     "name": "stdout",
     "text": [
      "{0: 0, 1: -1, 2: -4, 3: -9, 4: 16}\n"
     ]
    }
   ],
   "metadata": {}
  },
  {
   "cell_type": "code",
   "execution_count": 12,
   "source": [
    "my_dict5 = {}\r\n",
    "\r\n",
    "for i in range(5):\r\n",
    "    if i < 3:\r\n",
    "        my_dict5[i] = i**2\r\n",
    "\r\n",
    "print(my_dict5)"
   ],
   "outputs": [
    {
     "output_type": "stream",
     "name": "stdout",
     "text": [
      "{0: 0, 1: 1, 2: 4}\n"
     ]
    }
   ],
   "metadata": {}
  },
  {
   "cell_type": "code",
   "execution_count": 14,
   "source": [
    "my_dict6 = {i: i**2 for i in range(5) if i < 3}\r\n",
    "\r\n",
    "print(my_dict6)"
   ],
   "outputs": [
    {
     "output_type": "stream",
     "name": "stdout",
     "text": [
      "{0: 0, -1: 1, -2: 4}\n"
     ]
    }
   ],
   "metadata": {}
  }
 ]
}