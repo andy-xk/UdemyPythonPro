{
 "nbformat": 4,
 "nbformat_minor": 2,
 "metadata": {
  "language_info": {
   "name": "python",
   "version": "3.8.10",
   "mimetype": "text/x-python",
   "codemirror_mode": {
    "name": "ipython",
    "version": 3
   },
   "pygments_lexer": "ipython3",
   "nbconvert_exporter": "python",
   "file_extension": ".py"
  },
  "orig_nbformat": 2,
  "file_extension": ".py",
  "mimetype": "text/x-python",
  "name": "python",
  "npconvert_exporter": "python",
  "pygments_lexer": "ipython3",
  "version": 3,
  "kernelspec": {
   "name": "python3",
   "display_name": "Python 3.8.10 64-bit ('tensorflow': conda)"
  },
  "interpreter": {
   "hash": "4eab73af86a999baa7bf0153340022c78a9cea3be6d1f049b3c9a17993d56d0b"
  }
 },
 "cells": [
  {
   "cell_type": "code",
   "execution_count": 1,
   "source": [
    "my_template = \"Hello my name is Jan Schaffranek, nice to meet you. Today is the 14.04.2020.\"\r\n",
    "\r\n",
    "print(my_template)"
   ],
   "outputs": [
    {
     "output_type": "stream",
     "name": "stdout",
     "text": [
      "Hello my name is Jan Schaffranek, nice to meet you. Today is the 14.04.2020.\n"
     ]
    }
   ],
   "metadata": {}
  },
  {
   "cell_type": "code",
   "execution_count": 2,
   "source": [
    "def say_hello(firstname, lastname, date):\r\n",
    "    my_output_str = \"Hello my name is \" + str(firstname) + \\\r\n",
    "                    \" \" + str(lastname) + \", nice to meet you. Today is the \" + date\r\n",
    "    print(my_output_str)"
   ],
   "outputs": [],
   "metadata": {}
  },
  {
   "cell_type": "code",
   "execution_count": 3,
   "source": [
    "firstname = 'Jan'\r\n",
    "lastname = 'Schaffranek'\r\n",
    "date = '14.04.2020'\r\n",
    "\r\n",
    "say_hello(firstname, lastname, date)"
   ],
   "outputs": [
    {
     "output_type": "stream",
     "name": "stdout",
     "text": [
      "Hello my name is Jan Schaffranek, nice to meet you. Today is the 14.04.2020\n"
     ]
    }
   ],
   "metadata": {}
  },
  {
   "cell_type": "markdown",
   "source": [
    "%s = String\n",
    "%d = Integer\n",
    "%e, %f = Float\n",
    "%r = Lists etc.\n",
    "%x = Hexa\n",
    "%o = Octa"
   ],
   "metadata": {}
  },
  {
   "cell_type": "code",
   "execution_count": 4,
   "source": [
    "def say_hello_old_format(firstname, lastname, date):\r\n",
    "    my_output_str = \"Hello my name is %s %s, nice to meet you. Today is the %s\" % (firstname, lastname, date)\r\n",
    "    print(my_output_str)"
   ],
   "outputs": [],
   "metadata": {}
  },
  {
   "cell_type": "code",
   "execution_count": 5,
   "source": [
    "firstname = 'Jan'\r\n",
    "lastname = 'Schaffranek'\r\n",
    "date = '14.04.2020'\r\n",
    "\r\n",
    "say_hello_old_format(firstname, lastname, date)"
   ],
   "outputs": [
    {
     "output_type": "stream",
     "name": "stdout",
     "text": [
      "Hello my name is Jan Schaffranek, nice to meet you. Today is the 14.04.2020\n"
     ]
    }
   ],
   "metadata": {}
  },
  {
   "cell_type": "code",
   "execution_count": 6,
   "source": [
    "def say_hello_new_format(firstname, lastname, date):\r\n",
    "    my_output_str = \"Hello my name is {0} {1}, nice to meet you. Today is the {2}\".format(firstname, lastname, date)\r\n",
    "    print(my_output_str)"
   ],
   "outputs": [],
   "metadata": {}
  },
  {
   "cell_type": "code",
   "execution_count": 7,
   "source": [
    "from datetime import datetime\r\n",
    "\r\n",
    "firstname = 'Jan'\r\n",
    "lastname = 'Schaffranek'\r\n",
    "date = datetime.now()\r\n",
    "date = '{:%d.%m.%Y}'.format(date)\r\n",
    "\r\n",
    "say_hello_new_format(firstname, lastname, date)"
   ],
   "outputs": [
    {
     "output_type": "stream",
     "name": "stdout",
     "text": [
      "Hello my name is Jan Schaffranek, nice to meet you. Today is the 15.08.2021\n"
     ]
    }
   ],
   "metadata": {}
  },
  {
   "cell_type": "code",
   "execution_count": 8,
   "source": [
    "my_number = 10.1\r\n",
    "\r\n",
    "print(my_number)\r\n",
    "\r\n",
    "print(\"{:.32f}\".format(my_number))"
   ],
   "outputs": [
    {
     "output_type": "stream",
     "name": "stdout",
     "text": [
      "10.1\n",
      "10.09999999999999964472863211994991\n"
     ]
    }
   ],
   "metadata": {}
  }
 ]
}