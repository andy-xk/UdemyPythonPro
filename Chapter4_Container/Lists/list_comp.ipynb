{
 "nbformat": 4,
 "nbformat_minor": 2,
 "metadata": {
  "language_info": {
   "name": "python",
   "version": "3.8.10",
   "mimetype": "text/x-python",
   "codemirror_mode": {
    "name": "ipython",
    "version": 3
   },
   "pygments_lexer": "ipython3",
   "nbconvert_exporter": "python",
   "file_extension": ".py"
  },
  "orig_nbformat": 2,
  "file_extension": ".py",
  "mimetype": "text/x-python",
  "name": "python",
  "npconvert_exporter": "python",
  "pygments_lexer": "ipython3",
  "version": 3,
  "kernelspec": {
   "name": "python3",
   "display_name": "Python 3.8.10 64-bit"
  },
  "interpreter": {
   "hash": "4eab73af86a999baa7bf0153340022c78a9cea3be6d1f049b3c9a17993d56d0b"
  }
 },
 "cells": [
  {
   "cell_type": "markdown",
   "source": [
    "# List Comprehension"
   ],
   "metadata": {}
  },
  {
   "cell_type": "code",
   "execution_count": 47,
   "source": [
    "list1 = []\r\n",
    "\r\n",
    "for i in range(5):\r\n",
    "    list1.append(i)\r\n",
    "\r\n",
    "print(list1)"
   ],
   "outputs": [
    {
     "output_type": "stream",
     "name": "stdout",
     "text": [
      "[0, 1, 2, 3, 4]\n"
     ]
    }
   ],
   "metadata": {}
  },
  {
   "cell_type": "code",
   "execution_count": 48,
   "source": [
    "list2 = [i for i in range(5)]\r\n",
    "\r\n",
    "print(list2)"
   ],
   "outputs": [
    {
     "output_type": "stream",
     "name": "stdout",
     "text": [
      "[0, 1, 2, 3, 4]\n"
     ]
    }
   ],
   "metadata": {}
  },
  {
   "cell_type": "code",
   "execution_count": 49,
   "source": [
    "list3 = []\r\n",
    "\r\n",
    "for i in range(5):\r\n",
    "    if i > 2:\r\n",
    "        list3.append(i**2)\r\n",
    "    elif i == 1:\r\n",
    "        list3.append(-1)\r\n",
    "    else:\r\n",
    "        list3.append(i)\r\n",
    "\r\n",
    "print(list3)"
   ],
   "outputs": [
    {
     "output_type": "stream",
     "name": "stdout",
     "text": [
      "[0, -1, 2, 9, 16]\n"
     ]
    }
   ],
   "metadata": {}
  },
  {
   "cell_type": "code",
   "execution_count": 50,
   "source": [
    "list4 = [(i**2 if i > 2 else (-1 if i == 1 else i)) for i in range(5)]\r\n",
    "\r\n",
    "print(list4)"
   ],
   "outputs": [
    {
     "output_type": "stream",
     "name": "stdout",
     "text": [
      "[0, -1, 2, 9, 16]\n"
     ]
    }
   ],
   "metadata": {}
  },
  {
   "cell_type": "code",
   "execution_count": 51,
   "source": [
    "list5 = [0 for _ in range(5)]\r\n",
    "\r\n",
    "for i in range(5):\r\n",
    "    if i > 2:\r\n",
    "        list5[i] = (i**2)\r\n",
    "    elif i == 1:\r\n",
    "        list5[i] = (-1)\r\n",
    "    else:\r\n",
    "        list5[i] = (i)\r\n",
    "\r\n",
    "print(list5)"
   ],
   "outputs": [
    {
     "output_type": "stream",
     "name": "stdout",
     "text": [
      "[0, -1, 2, 9, 16]\n"
     ]
    }
   ],
   "metadata": {}
  },
  {
   "cell_type": "code",
   "execution_count": 52,
   "source": [
    "my_list6 = []\r\n",
    "\r\n",
    "for i in range(5):\r\n",
    "    if i < 3:\r\n",
    "        my_list6.append(i)\r\n",
    "    elif i == 4:\r\n",
    "        my_list6.append(i)\r\n",
    "\r\n",
    "print(my_list6)"
   ],
   "outputs": [
    {
     "output_type": "stream",
     "name": "stdout",
     "text": [
      "[0, 1, 2]\n"
     ]
    }
   ],
   "metadata": {}
  },
  {
   "cell_type": "code",
   "execution_count": 53,
   "source": [
    "my_list7 = [i for i in range(5) if (i < 3 or i == 4)]\r\n",
    "\r\n",
    "print(my_list7)"
   ],
   "outputs": [
    {
     "output_type": "stream",
     "name": "stdout",
     "text": [
      "[0, 1, 2]\n"
     ]
    }
   ],
   "metadata": {}
  }
 ]
}