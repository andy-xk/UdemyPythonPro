{
 "cells": [
  {
   "cell_type": "code",
   "execution_count": 1,
   "metadata": {},
   "outputs": [],
   "source": [
    "def memory_address(var):\n",
    "    return hex(id(var) % 0xFFFFF)\n",
    "\n",
    "def print_set_info(st):\n",
    "    print(f\"Set address: {memory_address(st)}\")\n",
    "    for val in st:\n",
    "        print(f\"Val: {memory_address(val)}\")\n",
    "    print(\"\\n\")"
   ]
  },
  {
   "cell_type": "markdown",
   "metadata": {},
   "source": [
    "## Set"
   ]
  },
  {
   "cell_type": "markdown",
   "metadata": {},
   "source": [
    "Types for the set values: bool, int, float, str, tuple, None (immutable types)  "
   ]
  },
  {
   "cell_type": "code",
   "execution_count": 2,
   "metadata": {},
   "outputs": [
    {
     "name": "stdout",
     "output_type": "stream",
     "text": [
      "{1, 2, 3}\n",
      "Set address: 0x8d9a\n",
      "Val: 0x7169f\n",
      "Val: 0x716bf\n",
      "Val: 0x716df\n",
      "\n",
      "\n"
     ]
    }
   ],
   "source": [
    "my_set1 = {1, 2, 3, 1}\n",
    "\n",
    "print(my_set1)\n",
    "print_set_info(my_set1)"
   ]
  },
  {
   "cell_type": "code",
   "execution_count": 3,
   "metadata": {},
   "outputs": [
    {
     "name": "stdout",
     "output_type": "stream",
     "text": [
      "unhashable type: 'list'\n"
     ]
    }
   ],
   "source": [
    "try:\n",
    "    my_set2 = {1, 2, [3]}\n",
    "except TypeError as e:\n",
    "    print(e)"
   ]
  },
  {
   "cell_type": "markdown",
   "metadata": {},
   "source": [
    "### Set Comp"
   ]
  },
  {
   "cell_type": "code",
   "execution_count": 4,
   "metadata": {},
   "outputs": [],
   "source": [
    "my_set_comp = {i for i in range(10)}"
   ]
  },
  {
   "cell_type": "code",
   "execution_count": 5,
   "metadata": {},
   "outputs": [
    {
     "name": "stdout",
     "output_type": "stream",
     "text": [
      "{0, 1, 2, 3, 4, 5, 6, 7, 8, 9}\n"
     ]
    }
   ],
   "source": [
    "print(my_set_comp)"
   ]
  },
  {
   "cell_type": "code",
   "execution_count": 6,
   "metadata": {},
   "outputs": [],
   "source": [
    "# my_set_comp = {{i for i in range(10)} for j in range(2)}"
   ]
  }
 ],
 "metadata": {
  "file_extension": ".py",
  "interpreter": {
   "hash": "ef4ce19910938c421491e84375c43d450a079a1a865d40a0bc82f335363ab876"
  },
  "kernelspec": {
   "display_name": "Python 3.10.4 ('pyUdemy')",
   "language": "python",
   "name": "python3"
  },
  "language_info": {
   "codemirror_mode": {
    "name": "ipython",
    "version": 3
   },
   "file_extension": ".py",
   "mimetype": "text/x-python",
   "name": "python",
   "nbconvert_exporter": "python",
   "pygments_lexer": "ipython3",
   "version": "3.10.4"
  },
  "mimetype": "text/x-python",
  "name": "python",
  "npconvert_exporter": "python",
  "orig_nbformat": 2,
  "pygments_lexer": "ipython3",
  "version": 3
 },
 "nbformat": 4,
 "nbformat_minor": 2
}
