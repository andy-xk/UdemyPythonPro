{
 "nbformat": 4,
 "nbformat_minor": 2,
 "metadata": {
  "language_info": {
   "name": "python",
   "version": "3.8.5",
   "mimetype": "text/x-python",
   "codemirror_mode": {
    "name": "ipython",
    "version": 3
   },
   "pygments_lexer": "ipython3",
   "nbconvert_exporter": "python",
   "file_extension": ".py"
  },
  "orig_nbformat": 2,
  "file_extension": ".py",
  "mimetype": "text/x-python",
  "name": "python",
  "npconvert_exporter": "python",
  "pygments_lexer": "ipython3",
  "version": 3,
  "kernelspec": {
   "name": "python3",
   "display_name": "Python 3.8.5 64-bit ('tensorflow': conda)"
  },
  "interpreter": {
   "hash": "630de26a36415a4d3a1dc65b80feee4049a43a89fa89aed6ddf66c570dbcbff3"
  }
 },
 "cells": [
  {
   "cell_type": "code",
   "execution_count": 18,
   "source": [
    "def memory_address(var):\r\n",
    "    return hex(id(var) % 0xFFFFF)\r\n",
    "\r\n",
    "def print_set_info(st):\r\n",
    "    print(f\"Set address: {memory_address(st)}\")\r\n",
    "    for val in st:\r\n",
    "        print(f\"Val: {memory_address(val)}\")\r\n",
    "    print(\"\\n\")"
   ],
   "outputs": [],
   "metadata": {}
  },
  {
   "cell_type": "markdown",
   "source": [
    "# Set"
   ],
   "metadata": {}
  },
  {
   "cell_type": "code",
   "execution_count": 19,
   "source": [
    "my_set1 = {1, 2, 3, 1}\r\n",
    "\r\n",
    "print(my_set1)\r\n",
    "print_set_info(my_set1)"
   ],
   "outputs": [
    {
     "output_type": "stream",
     "name": "stdout",
     "text": [
      "{1, 2, 3}\n",
      "Set address: 0x3bbe7\n",
      "Val: 0x5024e\n",
      "Val: 0x5026e\n",
      "Val: 0x5028e\n",
      "\n",
      "\n"
     ]
    }
   ],
   "metadata": {}
  },
  {
   "cell_type": "code",
   "execution_count": 20,
   "source": [
    "try:\r\n",
    "    my_set2 = {1, 2, [3]}\r\n",
    "except TypeError as e:\r\n",
    "    print(e)"
   ],
   "outputs": [
    {
     "output_type": "stream",
     "name": "stdout",
     "text": [
      "unhashable type: 'list'\n"
     ]
    }
   ],
   "metadata": {}
  }
 ]
}