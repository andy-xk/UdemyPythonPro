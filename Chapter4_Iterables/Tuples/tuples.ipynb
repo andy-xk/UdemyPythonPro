{
 "nbformat": 4,
 "nbformat_minor": 2,
 "metadata": {
  "language_info": {
   "name": "python",
   "version": "3.8.5",
   "mimetype": "text/x-python",
   "codemirror_mode": {
    "name": "ipython",
    "version": 3
   },
   "pygments_lexer": "ipython3",
   "nbconvert_exporter": "python",
   "file_extension": ".py"
  },
  "orig_nbformat": 2,
  "file_extension": ".py",
  "mimetype": "text/x-python",
  "name": "python",
  "npconvert_exporter": "python",
  "pygments_lexer": "ipython3",
  "version": 3,
  "kernelspec": {
   "name": "python3",
   "display_name": "Python 3.8.5 64-bit ('tensorflow': conda)"
  },
  "interpreter": {
   "hash": "630de26a36415a4d3a1dc65b80feee4049a43a89fa89aed6ddf66c570dbcbff3"
  }
 },
 "cells": [
  {
   "cell_type": "code",
   "execution_count": 43,
   "source": [
    "def memory_address(var):\r\n",
    "    return hex(id(var) % 0xFFFFF)\r\n",
    "\r\n",
    "def print_tuple_info(tpl):\r\n",
    "    print(f\"Tuple address: {memory_address(tpl)}\")\r\n",
    "    for val in tpl:\r\n",
    "        print(f\"Val: {memory_address(val)}\")\r\n",
    "    print(\"\\n\")"
   ],
   "outputs": [],
   "metadata": {}
  },
  {
   "cell_type": "markdown",
   "source": [
    "# Tuple"
   ],
   "metadata": {}
  },
  {
   "cell_type": "markdown",
   "source": [
    "<div style=\"font-size:1.5em;\">\r\n",
    "\r\n",
    "Tuple: Immutable Type\r\n",
    "\r\n",
    "List: Mutable Type\r\n",
    "\r\n",
    "</div>"
   ],
   "metadata": {}
  },
  {
   "cell_type": "code",
   "execution_count": 46,
   "source": [
    "my_tuple1 = ()\r\n",
    "print(my_tuple1)\r\n",
    "print_tuple_info(my_tuple1)"
   ],
   "outputs": [
    {
     "output_type": "stream",
     "name": "stdout",
     "text": [
      "()\n",
      "Tuple address: 0x652a6\n",
      "\n",
      "\n"
     ]
    }
   ],
   "metadata": {}
  },
  {
   "cell_type": "code",
   "execution_count": 47,
   "source": [
    "my_tuple2 = (10, 20, 30)\r\n",
    "print(my_tuple2)\r\n",
    "print_tuple_info(my_tuple2)"
   ],
   "outputs": [
    {
     "output_type": "stream",
     "name": "stdout",
     "text": [
      "(10, 20, 30)\n",
      "Tuple address: 0x680f4\n",
      "Val: 0x5036e\n",
      "Val: 0x504ae\n",
      "Val: 0x505ee\n",
      "\n",
      "\n"
     ]
    }
   ],
   "metadata": {}
  },
  {
   "cell_type": "code",
   "execution_count": 48,
   "source": [
    "try:\r\n",
    "    my_tuple2[0] = 10\r\n",
    "except TypeError as e:\r\n",
    "    print(e)"
   ],
   "outputs": [
    {
     "output_type": "stream",
     "name": "stdout",
     "text": [
      "'tuple' object does not support item assignment\n"
     ]
    }
   ],
   "metadata": {}
  },
  {
   "cell_type": "code",
   "execution_count": 49,
   "source": [
    "my_list = [1]\r\n",
    "my_tuple3 = (10, 20, my_list)\r\n",
    "\r\n",
    "print(my_tuple3)\r\n",
    "print_tuple_info(my_tuple3)"
   ],
   "outputs": [
    {
     "output_type": "stream",
     "name": "stdout",
     "text": [
      "(10, 20, [1])\n",
      "Tuple address: 0x6fb98\n",
      "Val: 0x5036e\n",
      "Val: 0x504ae\n",
      "Val: 0xf0fe9\n",
      "\n",
      "\n"
     ]
    }
   ],
   "metadata": {}
  },
  {
   "cell_type": "code",
   "execution_count": 50,
   "source": [
    "try:\r\n",
    "    my_tuple3[2].append(2)\r\n",
    "except TypeError as e:\r\n",
    "    print(e)"
   ],
   "outputs": [],
   "metadata": {}
  },
  {
   "cell_type": "code",
   "execution_count": 51,
   "source": [
    "print(my_tuple3)\r\n",
    "print_tuple_info(my_tuple3)"
   ],
   "outputs": [
    {
     "output_type": "stream",
     "name": "stdout",
     "text": [
      "(10, 20, [1, 2])\n",
      "Tuple address: 0x6fb98\n",
      "Val: 0x5036e\n",
      "Val: 0x504ae\n",
      "Val: 0xf0fe9\n",
      "\n",
      "\n"
     ]
    }
   ],
   "metadata": {}
  }
 ]
}