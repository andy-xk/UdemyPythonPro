{
 "nbformat": 4,
 "nbformat_minor": 2,
 "metadata": {
  "language_info": {
   "name": "python",
   "codemirror_mode": {
    "name": "ipython",
    "version": 3
   }
  },
  "orig_nbformat": 2,
  "file_extension": ".py",
  "mimetype": "text/x-python",
  "name": "python",
  "npconvert_exporter": "python",
  "pygments_lexer": "ipython3",
  "version": 3
 },
 "cells": [
  {
   "cell_type": "code",
   "execution_count": null,
   "metadata": {},
   "outputs": [],
   "source": [
    "def main():\n",
    "    my_list = [1, 2, 3]\n",
    "\n",
    "    # Option 1: Single Value\n",
    "    my_list.append(-10)\n",
    "    print(my_list)\n",
    "    # Option 2: List Concatenation\n",
    "    my_list2 = [4, 5]\n",
    "    #my_list += my_list2\n",
    "    my_list = my_list + my_list2\n",
    "    print(my_list)\n",
    "    # Option 3: Iterables\n",
    "    it = range(-2, 3, 1)\n",
    "    my_list.extend(it)\n",
    "    print(my_list)\n",
    "    # Option 4: Insert at user-defined index\n",
    "    my_list.insert(0, \"hello\")\n",
    "    print(my_list)\n",
    "    my_list.insert(-30, \"hello\")\n",
    "    print(my_list)\n",
    "    # Remove values\n",
    "    my_list.pop()\n",
    "    print(my_list)\n",
    "    while 'hello' in my_list:\n",
    "        idx = my_list.index('hello')\n",
    "        my_list.pop(idx)\n",
    "    print(my_list)\n",
    "    # Copy\n",
    "    my_list_new = my_list\n",
    "    print(hex(id(my_list)))\n",
    "    print(hex(id(my_list_new)))\n",
    "    my_list_new = my_list.copy()\n",
    "    print(hex(id(my_list)))\n",
    "    print(hex(id(my_list_new)))\n",
    "    # Reverse\n",
    "    my_list.reverse()\n",
    "    print(my_list)\n",
    "    print(my_list[::-1])\n",
    "    # Count\n",
    "    print(my_list.count(1))\n",
    "    # Sort\n",
    "    my_list.append('hello')\n",
    "    my_list.sort(reverse=True)\n",
    "    print(my_list)\n",
    "\n",
    "if __name__ == \"__main__\":\n",
    "    main()\n"
   ]
  }
 ]
}
