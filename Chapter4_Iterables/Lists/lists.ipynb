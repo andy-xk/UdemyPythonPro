{
 "nbformat": 4,
 "nbformat_minor": 2,
 "metadata": {
  "language_info": {
   "name": "python",
   "version": "3.8.5",
   "mimetype": "text/x-python",
   "codemirror_mode": {
    "name": "ipython",
    "version": 3
   },
   "pygments_lexer": "ipython3",
   "nbconvert_exporter": "python",
   "file_extension": ".py"
  },
  "orig_nbformat": 2,
  "file_extension": ".py",
  "mimetype": "text/x-python",
  "name": "python",
  "npconvert_exporter": "python",
  "pygments_lexer": "ipython3",
  "version": 3,
  "kernelspec": {
   "name": "python3",
   "display_name": "Python 3.8.5 64-bit ('tensorflow': conda)"
  },
  "interpreter": {
   "hash": "630de26a36415a4d3a1dc65b80feee4049a43a89fa89aed6ddf66c570dbcbff3"
  }
 },
 "cells": [
  {
   "cell_type": "code",
   "execution_count": 13,
   "source": [
    "def memory_address(var):\r\n",
    "    return hex(id(var) % 0xFFFFF)\r\n",
    "\r\n",
    "def print_list_info(lst):\r\n",
    "    print(f\"List address: {memory_address(lst)}\")\r\n",
    "    for i in range(len(lst)):\r\n",
    "        print(f\"Lst[{i}]: {memory_address(lst[i])}\")\r\n",
    "        if isinstance(lst[i], list):\r\n",
    "            for j in range(len(lst[i])):\r\n",
    "                print(f\"Lst[{i},{j}]: {memory_address(lst[i][j])}\")\r\n",
    "    print(\"\\n\")"
   ],
   "outputs": [],
   "metadata": {}
  },
  {
   "cell_type": "markdown",
   "source": [
    "# Lists"
   ],
   "metadata": {}
  },
  {
   "cell_type": "code",
   "execution_count": 14,
   "source": [
    "my_list = [1, 2, 3]\r\n",
    "print(my_list)\r\n",
    "print_list_info(my_list)"
   ],
   "outputs": [
    {
     "output_type": "stream",
     "name": "stdout",
     "text": [
      "[1, 2, 3]\n",
      "List address: 0x3edbd\n",
      "Lst[0]: 0x5024e\n",
      "Lst[1]: 0x5026e\n",
      "Lst[2]: 0x5028e\n",
      "\n",
      "\n"
     ]
    }
   ],
   "metadata": {}
  },
  {
   "cell_type": "code",
   "execution_count": 15,
   "source": [
    "my_list2 = [[1, 2], [3]]\r\n",
    "print(my_list2)\r\n",
    "print_list_info(my_list2)"
   ],
   "outputs": [
    {
     "output_type": "stream",
     "name": "stdout",
     "text": [
      "[[1, 2], [3]]\n",
      "List address: 0x525bd\n",
      "Lst[0]: 0xc94f9\n",
      "Lst[0,0]: 0x5024e\n",
      "Lst[0,1]: 0x5026e\n",
      "Lst[1]: 0x4f23d\n",
      "Lst[1,0]: 0x5028e\n",
      "\n",
      "\n"
     ]
    }
   ],
   "metadata": {}
  },
  {
   "cell_type": "code",
   "execution_count": 16,
   "source": [
    "my_list2[1] = [3, 6]\r\n",
    "print(my_list2)\r\n",
    "print_list_info(my_list2)"
   ],
   "outputs": [
    {
     "output_type": "stream",
     "name": "stdout",
     "text": [
      "[[1, 2], [5, 6]]\n",
      "List address: 0x525bd\n",
      "Lst[0]: 0xc94f9\n",
      "Lst[0,0]: 0x5024e\n",
      "Lst[0,1]: 0x5026e\n",
      "Lst[1]: 0xc91b9\n",
      "Lst[1,0]: 0x502ce\n",
      "Lst[1,1]: 0x502ee\n",
      "\n",
      "\n"
     ]
    }
   ],
   "metadata": {}
  }
 ]
}