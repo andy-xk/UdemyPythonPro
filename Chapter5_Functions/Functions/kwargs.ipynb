{
 "cells": [
  {
   "cell_type": "markdown",
   "metadata": {},
   "source": [
    "NORMAL ARGS; *ARGS; DEFAULT ARGS; **KWARGS  \n",
    "*ARGS: TUPLE  \n",
    "**KWARGS: DICT  "
   ]
  },
  {
   "cell_type": "code",
   "execution_count": 16,
   "metadata": {},
   "outputs": [],
   "source": [
    "def my_function(a, *args, x=2, y=3, z=4, **kwargs):\n",
    "    print(args, type(args))\n",
    "    print(kwargs, type(kwargs))\n",
    "    print('a: {}, x: {}, y: {} , z: {}, args: {}, kwargs: {}'.format(a, x, y, z, args, kwargs))"
   ]
  },
  {
   "cell_type": "code",
   "execution_count": 17,
   "metadata": {},
   "outputs": [
    {
     "name": "stdout",
     "output_type": "stream",
     "text": [
      "(3, 4) <class 'tuple'>\n",
      "{'b': False, 'c': 30, 'd': 40.5} <class 'dict'>\n",
      "a: 1, x: 13.37, y: 3 , z: 4, args: (3, 4), kwargs: {'b': False, 'c': 30, 'd': 40.5}\n"
     ]
    }
   ],
   "source": [
    "my_function(1, 3, 4, x=13.37, b=False, c=30, d=40.5)"
   ]
  },
  {
   "cell_type": "code",
   "execution_count": 18,
   "metadata": {},
   "outputs": [],
   "source": [
    "def my_function(*args, **kwargs):\n",
    "    print(args, type(args))\n",
    "    print(kwargs, type(kwargs))\n",
    "    print('args: {}, kwargs: {}'.format(args, kwargs))"
   ]
  },
  {
   "cell_type": "code",
   "execution_count": 19,
   "metadata": {},
   "outputs": [
    {
     "name": "stdout",
     "output_type": "stream",
     "text": [
      "(1, 3, 4) <class 'tuple'>\n",
      "{'x': 13.37, 'b': False, 'c': 30, 'd': 40.5} <class 'dict'>\n",
      "args: (1, 3, 4), kwargs: {'x': 13.37, 'b': False, 'c': 30, 'd': 40.5}\n"
     ]
    }
   ],
   "source": [
    "my_function(1, 3, 4, x=13.37, b=False, c=30, d=40.5)"
   ]
  },
  {
   "cell_type": "code",
   "execution_count": 20,
   "metadata": {},
   "outputs": [],
   "source": [
    "def my_function(a, *args, **kwargs):\n",
    "    print(a)\n",
    "    a *= 2\n",
    "    print(a)\n",
    "    print(args, type(args))\n",
    "    print(kwargs, type(kwargs))\n",
    "    print('args: {}, kwargs: {}'.format(args, kwargs))"
   ]
  },
  {
   "cell_type": "code",
   "execution_count": 21,
   "metadata": {},
   "outputs": [
    {
     "name": "stdout",
     "output_type": "stream",
     "text": [
      "1\n",
      "2\n",
      "(3, 4) <class 'tuple'>\n",
      "{'x': 13.37, 'b': False, 'c': 30, 'd': 40.5} <class 'dict'>\n",
      "args: (3, 4), kwargs: {'x': 13.37, 'b': False, 'c': 30, 'd': 40.5}\n"
     ]
    }
   ],
   "source": [
    "my_function(1, 3, 4, x=13.37, b=False, c=30, d=40.5)"
   ]
  }
 ],
 "metadata": {
  "file_extension": ".py",
  "kernelspec": {
   "display_name": "Python 3.8.5 64-bit ('tensorflow': conda)",
   "metadata": {
    "interpreter": {
     "hash": "4eab73af86a999baa7bf0153340022c78a9cea3be6d1f049b3c9a17993d56d0b"
    }
   },
   "name": "python3"
  },
  "language_info": {
   "codemirror_mode": {
    "name": "ipython",
    "version": 3
   },
   "file_extension": ".py",
   "mimetype": "text/x-python",
   "name": "python",
   "nbconvert_exporter": "python",
   "pygments_lexer": "ipython3",
   "version": "3.9.7"
  },
  "mimetype": "text/x-python",
  "name": "python",
  "npconvert_exporter": "python",
  "orig_nbformat": 2,
  "pygments_lexer": "ipython3",
  "version": 3
 },
 "nbformat": 4,
 "nbformat_minor": 2
}
