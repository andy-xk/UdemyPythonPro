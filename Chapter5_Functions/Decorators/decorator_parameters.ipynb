{
 "cells": [
  {
   "cell_type": "code",
   "execution_count": 10,
   "metadata": {},
   "outputs": [],
   "source": [
    "import time\n",
    "from functools import wraps\n",
    "\n",
    "def timing_extended(use_ns_timer=False):\n",
    "    if use_ns_timer:\n",
    "        time_fn = time.perf_counter_ns\n",
    "        time_scale = \"ns\"\n",
    "    else:\n",
    "        time_fn = time.perf_counter\n",
    "        time_scale = \"n\"\n",
    "\n",
    "    def timing(fn): # Decorator       \n",
    "        @wraps(fn)\n",
    "        def timer(*args, **kwargs):\n",
    "            start_time = time_fn()\n",
    "            fn_result = fn(*args, **kwargs)\n",
    "            end_time = time_fn()\n",
    "            time_duration = end_time - start_time\n",
    "            print(\"Function {} took: {} {}\".format(fn.__name__, time_duration, time_scale))\n",
    "            return fn_result\n",
    "        return timer\n",
    "    return timing"
   ]
  },
  {
   "cell_type": "code",
   "execution_count": 11,
   "metadata": {},
   "outputs": [
    {
     "output_type": "stream",
     "name": "stdout",
     "text": "Function iterate took: 49813361 ns\n"
    },
    {
     "output_type": "execute_result",
     "data": {
      "text/plain": "499999500000"
     },
     "metadata": {},
     "execution_count": 11
    }
   ],
   "source": [
    "@timing_extended(use_ns_timer=True)\n",
    "def iterate(n):\n",
    "    val = 0\n",
    "    for i in range(n):\n",
    "        val += i\n",
    "    return val\n",
    "\n",
    "iterate(1_000_000)"
   ]
  }
 ],
 "metadata": {
  "language_info": {
   "codemirror_mode": {
    "name": "ipython",
    "version": 3
   },
   "file_extension": ".py",
   "mimetype": "text/x-python",
   "name": "python",
   "nbconvert_exporter": "python",
   "pygments_lexer": "ipython3",
   "version": "3.8.1-final"
  },
  "orig_nbformat": 2,
  "kernelspec": {
   "name": "python38164bitpyudemyconda8c705f49a8e643418ce4b1ca64c8ab63",
   "display_name": "Python 3.8.1 64-bit ('pyUdemy': conda)"
  }
 },
 "nbformat": 4,
 "nbformat_minor": 2
}
