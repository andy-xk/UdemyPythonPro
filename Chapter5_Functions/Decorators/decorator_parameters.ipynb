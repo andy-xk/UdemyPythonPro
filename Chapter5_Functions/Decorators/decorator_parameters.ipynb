{
 "cells": [
  {
   "cell_type": "code",
   "execution_count": 1,
   "metadata": {},
   "outputs": [],
   "source": [
    "import time\n",
    "from functools import wraps"
   ]
  },
  {
   "cell_type": "code",
   "execution_count": 2,
   "metadata": {},
   "outputs": [],
   "source": [
    "def timing_extended(use_ns_timer=False):\n",
    "    if use_ns_timer:\n",
    "        time_fn = time.perf_counter_ns\n",
    "        time_scale = \"ns\"\n",
    "    else:\n",
    "        time_fn = time.perf_counter\n",
    "        time_scale = \"n\"\n",
    "\n",
    "    def timing(fn): # Decorator\n",
    "        @wraps(fn)\n",
    "        def timer(*args, **kwargs):\n",
    "            start_time = time_fn()\n",
    "            fn_result = fn(*args, **kwargs)\n",
    "            end_time = time_fn()\n",
    "            time_duration = end_time - start_time\n",
    "            print(\"Function {} took: {} {}\".format(fn.__name__, time_duration, time_scale))\n",
    "            return fn_result\n",
    "        return timer\n",
    "    return timing"
   ]
  },
  {
   "cell_type": "code",
   "execution_count": 3,
   "metadata": {},
   "outputs": [
    {
     "name": "stdout",
     "output_type": "stream",
     "text": [
      "Function iterate took: 32888200 ns\n"
     ]
    },
    {
     "data": {
      "text/plain": [
       "499999500000"
      ]
     },
     "execution_count": 3,
     "metadata": {},
     "output_type": "execute_result"
    }
   ],
   "source": [
    "@timing_extended(use_ns_timer=True)\n",
    "def iterate(n):\n",
    "    val = 0\n",
    "    for i in range(n):\n",
    "        val += i\n",
    "    return val\n",
    "\n",
    "iterate(1_000_000)"
   ]
  }
 ],
 "metadata": {
  "interpreter": {
   "hash": "860d2b4667de70e92398596be10ad9f3e8ceed469e8d76191a6e4c4a6fcf4afd"
  },
  "kernelspec": {
   "display_name": "Python 3.8.1 64-bit ('pyUdemy': conda)",
   "language": "python",
   "name": "python3"
  },
  "language_info": {
   "codemirror_mode": {
    "name": "ipython",
    "version": 3
   },
   "file_extension": ".py",
   "mimetype": "text/x-python",
   "name": "python",
   "nbconvert_exporter": "python",
   "pygments_lexer": "ipython3",
   "version": "3.9.7"
  },
  "orig_nbformat": 2
 },
 "nbformat": 4,
 "nbformat_minor": 2
}
