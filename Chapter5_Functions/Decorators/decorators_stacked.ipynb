{
 "cells": [
  {
   "cell_type": "code",
   "execution_count": 15,
   "metadata": {},
   "outputs": [],
   "source": [
    "from functools import wraps\n",
    "import time\n",
    "\n",
    "def debug(fn):\n",
    "    print(\"Entering debug!\")\n",
    "    @wraps(fn)\n",
    "    def debugger(*args, **kwargs):\n",
    "        print(\"Entering debugger!\")\n",
    "        args_values_types = [(a, type(a)) for a in args]\n",
    "        kwargs_values_types = [(k, v, type(v)) for k, v in kwargs.items()]\n",
    "        print(\"Args: {}\".format(args_values_types))\n",
    "        print(\"Kwargs: {}\".format(kwargs_values_types))\n",
    "        print(\"Function {} called\".format(fn.__name__))\n",
    "        fn_result = fn(*args, **kwargs) # function\n",
    "        print(\"Function {} returns: {}\".format(fn.__name__, fn_result))\n",
    "        return fn_result\n",
    "    return debugger\n",
    "\n",
    "def timing(fn):\n",
    "    print(\"Entering timing!\")\n",
    "    @wraps(fn)\n",
    "    def timer(*args, **kwargs):\n",
    "        print(\"Entering timer!\")\n",
    "        start_time = time.perf_counter()\n",
    "        fn_result = fn(*args, **kwargs) # debug(my_function)\n",
    "        end_time = time.perf_counter()\n",
    "        time_duration = end_time - start_time\n",
    "        print(\"Function {} took: {} s\".format(fn.__name__, time_duration))\n",
    "        return fn_result\n",
    "    return timer"
   ]
  },
  {
   "cell_type": "markdown",
   "metadata": {},
   "source": [
    "Timing(debug(my_function))\n",
    "\n",
    "fn bei Timing: debug(my_function)\n",
    "fn bei Debug: my_function\n"
   ]
  },
  {
   "cell_type": "code",
   "execution_count": 16,
   "metadata": {},
   "outputs": [
    {
     "output_type": "stream",
     "name": "stdout",
     "text": "Entering debug!\nEntering timing!\nEntering timer!\nEntering debugger!\nArgs: [('Jan', <class 'str'>)]\nKwargs: []\nFunction my_function called\nHello: Jan\nFunction my_function returns: None\nFunction my_function took: 5.596500000137894e-05 s\n"
    }
   ],
   "source": [
    "@timing\n",
    "@debug\n",
    "def my_function(name):\n",
    "    print(\"Hello: {}\".format(name))\n",
    "\n",
    "my_function(\"Jan\")"
   ]
  }
 ],
 "metadata": {
  "language_info": {
   "codemirror_mode": {
    "name": "ipython",
    "version": 3
   },
   "file_extension": ".py",
   "mimetype": "text/x-python",
   "name": "python",
   "nbconvert_exporter": "python",
   "pygments_lexer": "ipython3",
   "version": "3.8.1-final"
  },
  "orig_nbformat": 2,
  "kernelspec": {
   "name": "python38164bitpyudemyconda8c705f49a8e643418ce4b1ca64c8ab63",
   "display_name": "Python 3.8.1 64-bit ('pyUdemy': conda)"
  }
 },
 "nbformat": 4,
 "nbformat_minor": 2
}
