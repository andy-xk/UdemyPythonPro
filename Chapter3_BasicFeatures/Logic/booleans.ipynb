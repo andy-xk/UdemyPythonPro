{
 "nbformat": 4,
 "nbformat_minor": 2,
 "metadata": {
  "language_info": {
   "name": "python",
   "version": "3.8.5",
   "mimetype": "text/x-python",
   "codemirror_mode": {
    "name": "ipython",
    "version": 3
   },
   "pygments_lexer": "ipython3",
   "nbconvert_exporter": "python",
   "file_extension": ".py"
  },
  "orig_nbformat": 2,
  "file_extension": ".py",
  "mimetype": "text/x-python",
  "name": "python",
  "npconvert_exporter": "python",
  "pygments_lexer": "ipython3",
  "version": 3,
  "kernelspec": {
   "name": "python3",
   "display_name": "Python 3.8.5 64-bit ('pyUdemy': conda)"
  },
  "interpreter": {
   "hash": "992cbcc1320002087e26531265091d0ed3d2b125458f1ba3a138943fb8da78eb"
  }
 },
 "cells": [
  {
   "cell_type": "markdown",
   "source": [
    "# Booleans"
   ],
   "metadata": {}
  },
  {
   "cell_type": "code",
   "execution_count": 61,
   "source": [
    "print(issubclass(bool, int))"
   ],
   "outputs": [
    {
     "output_type": "stream",
     "name": "stdout",
     "text": [
      "True\n"
     ]
    }
   ],
   "metadata": {}
  },
  {
   "cell_type": "code",
   "execution_count": 62,
   "source": [
    "print(isinstance(True, bool))\r\n",
    "print(isinstance(False, bool))"
   ],
   "outputs": [
    {
     "output_type": "stream",
     "name": "stdout",
     "text": [
      "True\n",
      "True\n"
     ]
    }
   ],
   "metadata": {}
  },
  {
   "cell_type": "code",
   "execution_count": 63,
   "source": [
    "print(isinstance(1, bool))\r\n",
    "print(isinstance(0, bool))"
   ],
   "outputs": [
    {
     "output_type": "stream",
     "name": "stdout",
     "text": [
      "False\n",
      "False\n"
     ]
    }
   ],
   "metadata": {}
  },
  {
   "cell_type": "markdown",
   "source": [
    "## Is vs. Equal"
   ],
   "metadata": {}
  },
  {
   "cell_type": "code",
   "execution_count": 64,
   "source": [
    "my_bool_value = True # Numerical value: 1\r\n",
    "my_int_value = 1\r\n",
    "\r\n",
    "# Equality comparison\r\n",
    "if my_bool_value == my_int_value:\r\n",
    "    print(\"yes\")\r\n",
    "else:\r\n",
    "    print(\"no\")"
   ],
   "outputs": [
    {
     "output_type": "stream",
     "name": "stdout",
     "text": [
      "yes\n"
     ]
    }
   ],
   "metadata": {}
  },
  {
   "cell_type": "code",
   "execution_count": 65,
   "source": [
    "# 'is' and 'is not': memory (address) equality\r\n",
    "# '==' and '!=': value equality\r\n",
    "\r\n",
    "# Is: Identity operator (memory adresses)\r\n",
    "# Value Equality: Operator to compare object values"
   ],
   "outputs": [],
   "metadata": {}
  },
  {
   "cell_type": "code",
   "execution_count": 66,
   "source": [
    "if my_bool_value is my_int_value:\r\n",
    "    print(\"yes\")\r\n",
    "else:\r\n",
    "    print(\"no\")"
   ],
   "outputs": [
    {
     "output_type": "stream",
     "name": "stdout",
     "text": [
      "no\n"
     ]
    }
   ],
   "metadata": {}
  },
  {
   "cell_type": "markdown",
   "source": [
    "## Boolean Evaluation"
   ],
   "metadata": {}
  },
  {
   "cell_type": "code",
   "execution_count": 67,
   "source": [
    "# Every object of a built-in type has a Truth Value\r\n",
    "# An instance is True if it is not: None, False, 0, or empty"
   ],
   "outputs": [],
   "metadata": {}
  },
  {
   "cell_type": "code",
   "execution_count": 68,
   "source": [
    "v1 = None\r\n",
    "\r\n",
    "if v1:\r\n",
    "    print(\"v1\")"
   ],
   "outputs": [],
   "metadata": {}
  },
  {
   "cell_type": "code",
   "execution_count": 69,
   "source": [
    "my_list = []\r\n",
    "\r\n",
    "if my_list:\r\n",
    "    print(\"yes\")\r\n",
    "\r\n",
    "my_list.append(1)\r\n",
    "\r\n",
    "if my_list:\r\n",
    "    print(\"yes2\")"
   ],
   "outputs": [
    {
     "output_type": "stream",
     "name": "stdout",
     "text": [
      "yes2\n"
     ]
    }
   ],
   "metadata": {}
  },
  {
   "cell_type": "code",
   "execution_count": 70,
   "source": [
    "v2 = 2\r\n",
    "\r\n",
    "if v2:\r\n",
    "    print(\"v2 == True\")"
   ],
   "outputs": [
    {
     "output_type": "stream",
     "name": "stdout",
     "text": [
      "v2 == True\n"
     ]
    }
   ],
   "metadata": {}
  },
  {
   "cell_type": "markdown",
   "source": [
    "## Boolean Comparison"
   ],
   "metadata": {}
  },
  {
   "cell_type": "code",
   "execution_count": 71,
   "source": [
    "# Boolean operators: and, or, not\r\n",
    "# Comparison operators: <, >, <=, >=, ==, !=\r\n",
    "\r\n",
    "# Operator order:\r\n",
    "# 1.) ()\r\n",
    "# 2.) Comparison operators\r\n",
    "# 3.) not\r\n",
    "# 4.) and\r\n",
    "# 5.) or"
   ],
   "outputs": [],
   "metadata": {}
  },
  {
   "cell_type": "code",
   "execution_count": 72,
   "source": [
    "a = True\r\n",
    "b = False\r\n",
    "c = True"
   ],
   "outputs": [],
   "metadata": {}
  },
  {
   "cell_type": "code",
   "execution_count": 73,
   "source": [
    "statement = a > b and c == a or not a and c\r\n",
    "print(statement)"
   ],
   "outputs": [
    {
     "output_type": "stream",
     "name": "stdout",
     "text": [
      "True\n"
     ]
    }
   ],
   "metadata": {}
  },
  {
   "cell_type": "code",
   "execution_count": 74,
   "source": [
    "statement = ((a > b) and (c == a)) or ((not a) and c)\r\n",
    "print(statement)"
   ],
   "outputs": [
    {
     "output_type": "stream",
     "name": "stdout",
     "text": [
      "True\n"
     ]
    }
   ],
   "metadata": {}
  },
  {
   "cell_type": "markdown",
   "source": [
    "## Boolean Shortcuts"
   ],
   "metadata": {}
  },
  {
   "cell_type": "code",
   "execution_count": 76,
   "source": [
    "A = True\r\n",
    "B = False"
   ],
   "outputs": [],
   "metadata": {}
  },
  {
   "cell_type": "code",
   "execution_count": 77,
   "source": [
    "def bool_A(A):\r\n",
    "    print(\"Calling function: bool_A\")\r\n",
    "    if A:\r\n",
    "        return True\r\n",
    "    else:\r\n",
    "        return False"
   ],
   "outputs": [],
   "metadata": {}
  },
  {
   "cell_type": "code",
   "execution_count": 78,
   "source": [
    "def bool_B(B):\r\n",
    "    print(\"Calling function: bool_B\")\r\n",
    "    if B:\r\n",
    "        return True\r\n",
    "    else:\r\n",
    "        return False"
   ],
   "outputs": [],
   "metadata": {}
  },
  {
   "cell_type": "code",
   "execution_count": 79,
   "source": [
    "A = False\r\n",
    "B = True"
   ],
   "outputs": [],
   "metadata": {}
  },
  {
   "cell_type": "code",
   "execution_count": 80,
   "source": [
    "if bool_A(A) or bool_B(B):\r\n",
    "    print(\"A or B\")"
   ],
   "outputs": [
    {
     "output_type": "stream",
     "name": "stdout",
     "text": [
      "Calling function: bool_A\n",
      "Calling function: bool_B\n",
      "A or B\n"
     ]
    }
   ],
   "metadata": {}
  },
  {
   "cell_type": "code",
   "execution_count": 81,
   "source": [
    "if bool_A(A) and bool_B(B):\r\n",
    "    print(\"A and B\")"
   ],
   "outputs": [
    {
     "output_type": "stream",
     "name": "stdout",
     "text": [
      "Calling function: bool_A\n"
     ]
    }
   ],
   "metadata": {}
  }
 ]
}