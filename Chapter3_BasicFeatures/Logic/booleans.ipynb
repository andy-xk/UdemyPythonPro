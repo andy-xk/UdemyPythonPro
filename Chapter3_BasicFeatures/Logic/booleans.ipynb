{
 "nbformat": 4,
 "nbformat_minor": 2,
 "metadata": {
  "language_info": {
   "name": "python",
   "version": "3.8.10",
   "mimetype": "text/x-python",
   "codemirror_mode": {
    "name": "ipython",
    "version": 3
   },
   "pygments_lexer": "ipython3",
   "nbconvert_exporter": "python",
   "file_extension": ".py"
  },
  "orig_nbformat": 2,
  "file_extension": ".py",
  "mimetype": "text/x-python",
  "name": "python",
  "npconvert_exporter": "python",
  "pygments_lexer": "ipython3",
  "version": 3,
  "kernelspec": {
   "name": "python3",
   "display_name": "Python 3.8.10 64-bit ('tensorflow': conda)"
  },
  "interpreter": {
   "hash": "4eab73af86a999baa7bf0153340022c78a9cea3be6d1f049b3c9a17993d56d0b"
  }
 },
 "cells": [
  {
   "cell_type": "code",
   "execution_count": 67,
   "source": [
    "import sys"
   ],
   "outputs": [],
   "metadata": {}
  },
  {
   "cell_type": "markdown",
   "source": [
    "# Booleans"
   ],
   "metadata": {}
  },
  {
   "cell_type": "code",
   "execution_count": null,
   "source": [],
   "outputs": [],
   "metadata": {}
  },
  {
   "cell_type": "markdown",
   "source": [
    "## Is vs. Equal\r\n",
    "\r\n",
    "'is' and 'is not': memory (address) equality\r\n",
    "'==' and '!=': value equality\r\n",
    "\r\n",
    "Is: Identity operator (memory adresses)\r\n",
    "Value Equality: Operator to compare object values"
   ],
   "metadata": {}
  },
  {
   "cell_type": "code",
   "execution_count": null,
   "source": [],
   "outputs": [],
   "metadata": {}
  },
  {
   "cell_type": "markdown",
   "source": [
    "## Boolean Evaluation\r\n",
    "\r\n",
    "<div style=\"font-size:1.5em;\">\r\n",
    "\r\n",
    "Every object of a built-in type has a Truth Value.  \r\n",
    "\r\n",
    "An instance is True if it is not: None, False, 0, or empty.  \r\n",
    "\r\n",
    "</div>\r\n"
   ],
   "metadata": {}
  },
  {
   "cell_type": "code",
   "execution_count": null,
   "source": [],
   "outputs": [],
   "metadata": {}
  },
  {
   "cell_type": "markdown",
   "source": [
    "## Boolean Comparison\r\n",
    "\r\n",
    "<div style=\"font-size:1.5em;\">\r\n",
    "\r\n",
    "Boolean operators: and, or, not\r\n",
    "\r\n",
    "Comparison operators: <, >, <=, >=, ==, !=\r\n",
    "\r\n",
    "</div>"
   ],
   "metadata": {}
  },
  {
   "cell_type": "code",
   "execution_count": null,
   "source": [],
   "outputs": [],
   "metadata": {}
  },
  {
   "cell_type": "markdown",
   "source": [
    "##  Operator order\r\n",
    "\r\n",
    "<div style=\"font-size:1.5em;\">\r\n",
    "\r\n",
    "1.) () - Paranthesis  \r\n",
    "\r\n",
    "2.) Comparison operators  \r\n",
    "\r\n",
    "3.) not  \r\n",
    "\r\n",
    "4.) and  \r\n",
    "\r\n",
    "5.) or  \r\n",
    "\r\n",
    "</div>"
   ],
   "metadata": {}
  },
  {
   "cell_type": "code",
   "execution_count": null,
   "source": [],
   "outputs": [],
   "metadata": {}
  },
  {
   "cell_type": "markdown",
   "source": [
    "## Boolean Shortcuts"
   ],
   "metadata": {}
  },
  {
   "cell_type": "code",
   "execution_count": null,
   "source": [],
   "outputs": [],
   "metadata": {}
  }
 ]
}