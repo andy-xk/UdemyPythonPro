{
 "cells": [
  {
   "cell_type": "code",
   "execution_count": 48,
   "source": [
    "def print_memory_address(var):\r\n",
    "    print(hex(id(var)))"
   ],
   "outputs": [],
   "metadata": {}
  },
  {
   "cell_type": "code",
   "execution_count": 49,
   "source": [
    "def print_val_and_memory_address(val):\r\n",
    "    print(val, hex(id(val)))"
   ],
   "outputs": [],
   "metadata": {}
  },
  {
   "cell_type": "markdown",
   "source": [
    "# In-Place Functions"
   ],
   "metadata": {}
  },
  {
   "cell_type": "code",
   "execution_count": 50,
   "source": [
    "def inc_number(number, inc_value):\r\n",
    "    number = number + inc_value\r\n",
    "    return number"
   ],
   "outputs": [],
   "metadata": {}
  },
  {
   "cell_type": "code",
   "execution_count": 51,
   "source": [
    "my_number = 10\r\n",
    "increment = 2\r\n",
    "\r\n",
    "print_memory_address(my_number)\r\n",
    "my_number = inc_number(my_number, increment)\r\n",
    "print_memory_address(my_number)\r\n",
    "\r\n",
    "print(my_number)"
   ],
   "outputs": [
    {
     "output_type": "stream",
     "name": "stdout",
     "text": [
      "0x7ffc2dd828b0\n",
      "0x7ffc2dd828f0\n",
      "12\n"
     ]
    }
   ],
   "metadata": {}
  },
  {
   "cell_type": "code",
   "execution_count": 52,
   "source": [
    "def inc_list(lst, inc_value):\r\n",
    "    for value in lst:\r\n",
    "        value = value + inc_value\r\n",
    "    return lst"
   ],
   "outputs": [],
   "metadata": {}
  },
  {
   "cell_type": "code",
   "execution_count": 53,
   "source": [
    "my_list = [1, 2, 3]\r\n",
    "increment = 2\r\n",
    "\r\n",
    "print_memory_address(my_list)\r\n",
    "my_list = inc_list(my_list, increment)\r\n",
    "print_memory_address(my_list)\r\n",
    "\r\n",
    "print(my_list)"
   ],
   "outputs": [
    {
     "output_type": "stream",
     "name": "stdout",
     "text": [
      "0x22a1e7dc100\n",
      "0x22a1e7dc100\n",
      "[1, 2, 3]\n"
     ]
    }
   ],
   "metadata": {}
  },
  {
   "cell_type": "markdown",
   "source": [
    "# In-Place Operations"
   ],
   "metadata": {}
  },
  {
   "cell_type": "code",
   "execution_count": 54,
   "source": [
    "def inc_number_inplace(number, inc_value):\r\n",
    "    number += inc_value"
   ],
   "outputs": [],
   "metadata": {}
  },
  {
   "cell_type": "code",
   "execution_count": 55,
   "source": [
    "my_number2 = 10\r\n",
    "increment2 = 2\r\n",
    "\r\n",
    "print_memory_address(my_number2)\r\n",
    "inc_number_inplace(my_number2, increment2)\r\n",
    "print_memory_address(my_number2)\r\n",
    "\r\n",
    "print(my_number2)"
   ],
   "outputs": [
    {
     "output_type": "stream",
     "name": "stdout",
     "text": [
      "0x7ffc2dd828b0\n",
      "0x7ffc2dd828b0\n",
      "10\n"
     ]
    }
   ],
   "metadata": {}
  },
  {
   "cell_type": "code",
   "execution_count": 56,
   "source": [
    "def inc_list(lst, inc_value):\r\n",
    "    for idx in range(len(lst)):\r\n",
    "        lst[idx] = lst[idx] + inc_value"
   ],
   "outputs": [],
   "metadata": {}
  },
  {
   "cell_type": "code",
   "execution_count": 57,
   "source": [
    "my_list2 = [1, 2, 3]\r\n",
    "increment2 = 2\r\n",
    "\r\n",
    "print_memory_address(my_list2[0])\r\n",
    "inc_list(my_list2, increment2)\r\n",
    "print_memory_address(my_list2[0])\r\n",
    "\r\n",
    "print(my_list2)"
   ],
   "outputs": [
    {
     "output_type": "stream",
     "name": "stdout",
     "text": [
      "0x22a1e7e0580\n",
      "0x22a1e7e0580\n",
      "[3, 4, 5]\n"
     ]
    }
   ],
   "metadata": {}
  }
 ],
 "metadata": {
  "language_info": {
   "codemirror_mode": {
    "name": "ipython",
    "version": 3
   },
   "file_extension": ".py",
   "mimetype": "text/x-python",
   "name": "python",
   "nbconvert_exporter": "python",
   "pygments_lexer": "ipython3",
   "version": "3.8.10"
  },
  "orig_nbformat": 2,
  "kernelspec": {
   "name": "python3",
   "display_name": "Python 3.8.10 64-bit ('tensorflow': conda)"
  },
  "interpreter": {
   "hash": "4eab73af86a999baa7bf0153340022c78a9cea3be6d1f049b3c9a17993d56d0b"
  }
 },
 "nbformat": 4,
 "nbformat_minor": 2
}