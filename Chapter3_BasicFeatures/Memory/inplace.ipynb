{
 "cells": [
  {
   "cell_type": "code",
   "execution_count": 411,
   "source": [
    "import copy"
   ],
   "outputs": [],
   "metadata": {}
  },
  {
   "cell_type": "code",
   "execution_count": 412,
   "source": [
    "def print_memory_address(var):\r\n",
    "    print(hex(id(var) % 0xFFFF))"
   ],
   "outputs": [],
   "metadata": {}
  },
  {
   "cell_type": "markdown",
   "source": [
    "# In-Place Functions"
   ],
   "metadata": {}
  },
  {
   "cell_type": "markdown",
   "source": [
    "# Immutable Types"
   ],
   "metadata": {}
  },
  {
   "cell_type": "code",
   "execution_count": 413,
   "source": [
    "my_number = 10\r\n",
    "increment = 2\r\n",
    "\r\n",
    "print_memory_address(my_number)\r\n",
    "my_number = my_number + increment\r\n",
    "print_memory_address(my_number)\r\n",
    "\r\n",
    "print(my_number)"
   ],
   "outputs": [
    {
     "output_type": "stream",
     "name": "stdout",
     "text": [
      "0xe218\n",
      "0xe258\n",
      "12\n"
     ]
    }
   ],
   "metadata": {}
  },
  {
   "cell_type": "code",
   "execution_count": 414,
   "source": [
    "my_number2 = 10\r\n",
    "increment2 = 2\r\n",
    "\r\n",
    "print_memory_address(my_number2)\r\n",
    "my_number2 += increment2\r\n",
    "print_memory_address(my_number2)\r\n",
    "\r\n",
    "print(my_number2)"
   ],
   "outputs": [
    {
     "output_type": "stream",
     "name": "stdout",
     "text": [
      "0xe218\n",
      "0xe258\n",
      "12\n"
     ]
    }
   ],
   "metadata": {}
  },
  {
   "cell_type": "markdown",
   "source": [
    "# Mutable Types (but not In-Place)"
   ],
   "metadata": {}
  },
  {
   "cell_type": "code",
   "execution_count": 415,
   "source": [
    "def inc_list(lst, inc_value):\r\n",
    "    for value in lst:\r\n",
    "        value = value + inc_value\r\n",
    "    return lst"
   ],
   "outputs": [],
   "metadata": {}
  },
  {
   "cell_type": "code",
   "execution_count": 416,
   "source": [
    "my_list = [1, 2, 3]\r\n",
    "increment = 2\r\n",
    "\r\n",
    "print_memory_address(my_list)\r\n",
    "my_list = inc_list(my_list, increment)\r\n",
    "print_memory_address(my_list)\r\n",
    "\r\n",
    "print(my_list)"
   ],
   "outputs": [
    {
     "output_type": "stream",
     "name": "stdout",
     "text": [
      "0x65fc\n",
      "0x65fc\n",
      "[1, 2, 3]\n"
     ]
    }
   ],
   "metadata": {}
  },
  {
   "cell_type": "code",
   "execution_count": 417,
   "source": [
    "def inc_list(lst, inc_value):\r\n",
    "    for idx in range(len(lst)):\r\n",
    "        lst[idx] = lst[idx] + inc_value"
   ],
   "outputs": [],
   "metadata": {}
  },
  {
   "cell_type": "code",
   "execution_count": 418,
   "source": [
    "my_list2 = [1, 2, 3]\r\n",
    "increment2 = 2\r\n",
    "\r\n",
    "print_memory_address(my_list2[0])\r\n",
    "inc_list(my_list2, increment2)\r\n",
    "print_memory_address(my_list2[0])\r\n",
    "\r\n",
    "print(my_list2)"
   ],
   "outputs": [
    {
     "output_type": "stream",
     "name": "stdout",
     "text": [
      "0xe0f8\n",
      "0xe138\n",
      "[3, 4, 5]\n"
     ]
    }
   ],
   "metadata": {}
  },
  {
   "cell_type": "code",
   "execution_count": 419,
   "source": [
    "def concat_lists(l1, l2):\r\n",
    "    return l1 + l2"
   ],
   "outputs": [],
   "metadata": {}
  },
  {
   "cell_type": "code",
   "execution_count": 420,
   "source": [
    "l1 = [1, 2]\r\n",
    "l2 = [3, 4]\r\n",
    "\r\n",
    "print_memory_address(l1)\r\n",
    "print_memory_address(l2)\r\n",
    "print(l1)\r\n",
    "l1 = concat_lists(l1, l2)\r\n",
    "print(l1)\r\n",
    "print_memory_address(l1)\r\n",
    "print_memory_address(l2)"
   ],
   "outputs": [
    {
     "output_type": "stream",
     "name": "stdout",
     "text": [
      "0x97fb\n",
      "0x94fb\n",
      "[1, 2]\n",
      "[1, 2, 3, 4]\n",
      "0x937b\n",
      "0x94fb\n"
     ]
    }
   ],
   "metadata": {}
  },
  {
   "cell_type": "markdown",
   "source": [
    "# In-Place on Mutable Types"
   ],
   "metadata": {}
  },
  {
   "cell_type": "code",
   "execution_count": 421,
   "source": [
    "def concat_lists_inplace(l1, l2):\r\n",
    "    l1 += l2"
   ],
   "outputs": [],
   "metadata": {}
  },
  {
   "cell_type": "code",
   "execution_count": 422,
   "source": [
    "l3 = [1, 2]\r\n",
    "l4 = [3, 4]\r\n",
    "\r\n",
    "print_memory_address(l3)\r\n",
    "print_memory_address(l4)\r\n",
    "print(l3)\r\n",
    "concat_lists_inplace(l3, l4)\r\n",
    "print(l3)\r\n",
    "print_memory_address(l3)\r\n",
    "print_memory_address(l4)"
   ],
   "outputs": [
    {
     "output_type": "stream",
     "name": "stdout",
     "text": [
      "0x8d3b\n",
      "0x963b\n",
      "[1, 2]\n",
      "[1, 2, 3, 4]\n",
      "0x8d3b\n",
      "0x963b\n"
     ]
    }
   ],
   "metadata": {}
  },
  {
   "cell_type": "markdown",
   "source": [
    "# Shallow and Deep Copy"
   ],
   "metadata": {}
  },
  {
   "cell_type": "markdown",
   "source": [
    "# Shallow Copy"
   ],
   "metadata": {}
  },
  {
   "cell_type": "code",
   "execution_count": 423,
   "source": [
    "list1 = [[1, 2], [3, 4]]\r\n",
    "\r\n",
    "print_memory_address(list1)\r\n",
    "print_memory_address(list1[0])\r\n",
    "print(list1)"
   ],
   "outputs": [
    {
     "output_type": "stream",
     "name": "stdout",
     "text": [
      "0x35fc\n",
      "0x867a\n",
      "[[1, 2], [3, 4]]\n"
     ]
    }
   ],
   "metadata": {}
  },
  {
   "cell_type": "code",
   "execution_count": 424,
   "source": [
    "list1[0][0] = 10\r\n",
    "\r\n",
    "print_memory_address(list1)\r\n",
    "print_memory_address(list1[0])\r\n",
    "print(list1)"
   ],
   "outputs": [
    {
     "output_type": "stream",
     "name": "stdout",
     "text": [
      "0x35fc\n",
      "0x867a\n",
      "[[10, 2], [3, 4]]\n"
     ]
    }
   ],
   "metadata": {}
  },
  {
   "cell_type": "code",
   "execution_count": 425,
   "source": [
    "list1[0] = [-1, -2]\r\n",
    "\r\n",
    "print_memory_address(list1)\r\n",
    "print_memory_address(list1[0])\r\n",
    "print(list1)"
   ],
   "outputs": [
    {
     "output_type": "stream",
     "name": "stdout",
     "text": [
      "0x35fc\n",
      "0x2dfc\n",
      "[[-1, -2], [3, 4]]\n"
     ]
    }
   ],
   "metadata": {}
  },
  {
   "cell_type": "code",
   "execution_count": 426,
   "source": [
    "list2 = copy.copy(list1)\r\n",
    "\r\n",
    "print_memory_address(list2)\r\n",
    "print_memory_address(list2[0])\r\n",
    "print(list2)"
   ],
   "outputs": [
    {
     "output_type": "stream",
     "name": "stdout",
     "text": [
      "0x867a\n",
      "0x2dfc\n",
      "[[-1, -2], [3, 4]]\n"
     ]
    }
   ],
   "metadata": {}
  },
  {
   "cell_type": "code",
   "execution_count": 427,
   "source": [
    "list2[0][0] = 10\r\n",
    "\r\n",
    "print_memory_address(list2)\r\n",
    "print_memory_address(list2[0])\r\n",
    "print(list2)"
   ],
   "outputs": [
    {
     "output_type": "stream",
     "name": "stdout",
     "text": [
      "0x867a\n",
      "0x2dfc\n",
      "[[10, -2], [3, 4]]\n"
     ]
    }
   ],
   "metadata": {}
  },
  {
   "cell_type": "code",
   "execution_count": 428,
   "source": [
    "print_memory_address(list1)\r\n",
    "print_memory_address(list1[0])\r\n",
    "print(list1)"
   ],
   "outputs": [
    {
     "output_type": "stream",
     "name": "stdout",
     "text": [
      "0x35fc\n",
      "0x2dfc\n",
      "[[10, -2], [3, 4]]\n"
     ]
    }
   ],
   "metadata": {}
  },
  {
   "cell_type": "markdown",
   "source": [
    "# Deep Copy"
   ],
   "metadata": {}
  },
  {
   "cell_type": "code",
   "execution_count": 429,
   "source": [
    "list3 = copy.deepcopy(list1)\r\n",
    "\r\n",
    "print_memory_address(list3)\r\n",
    "print_memory_address(list3[0])\r\n",
    "print(list3)"
   ],
   "outputs": [
    {
     "output_type": "stream",
     "name": "stdout",
     "text": [
      "0xbcb8\n",
      "0x2c7c\n",
      "[[10, -2], [3, 4]]\n"
     ]
    }
   ],
   "metadata": {}
  },
  {
   "cell_type": "code",
   "execution_count": 430,
   "source": [
    "list3[0][0] = -10\r\n",
    "\r\n",
    "print_memory_address(list3)\r\n",
    "print_memory_address(list3[0])\r\n",
    "print(list3)"
   ],
   "outputs": [
    {
     "output_type": "stream",
     "name": "stdout",
     "text": [
      "0xbcb8\n",
      "0x2c7c\n",
      "[[-10, -2], [3, 4]]\n"
     ]
    }
   ],
   "metadata": {}
  },
  {
   "cell_type": "code",
   "execution_count": 431,
   "source": [
    "print_memory_address(list1)\r\n",
    "print_memory_address(list1[0])\r\n",
    "print(list1)"
   ],
   "outputs": [
    {
     "output_type": "stream",
     "name": "stdout",
     "text": [
      "0x35fc\n",
      "0x2dfc\n",
      "[[10, -2], [3, 4]]\n"
     ]
    }
   ],
   "metadata": {}
  }
 ],
 "metadata": {
  "language_info": {
   "codemirror_mode": {
    "name": "ipython",
    "version": 3
   },
   "file_extension": ".py",
   "mimetype": "text/x-python",
   "name": "python",
   "nbconvert_exporter": "python",
   "pygments_lexer": "ipython3",
   "version": "3.8.10"
  },
  "orig_nbformat": 2,
  "kernelspec": {
   "name": "python3",
   "display_name": "Python 3.8.10 64-bit ('tensorflow': conda)"
  },
  "interpreter": {
   "hash": "4eab73af86a999baa7bf0153340022c78a9cea3be6d1f049b3c9a17993d56d0b"
  }
 },
 "nbformat": 4,
 "nbformat_minor": 2
}