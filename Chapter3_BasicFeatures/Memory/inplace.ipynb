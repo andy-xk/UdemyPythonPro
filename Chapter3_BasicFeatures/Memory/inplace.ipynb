{
 "cells": [
  {
   "cell_type": "markdown",
   "source": [
    "# In-Place Functions"
   ],
   "metadata": {}
  },
  {
   "cell_type": "code",
   "execution_count": 1,
   "source": [
    "def inc_number(number, val):\r\n",
    "    number += val"
   ],
   "outputs": [],
   "metadata": {}
  },
  {
   "cell_type": "code",
   "execution_count": 2,
   "source": [
    "my_number = 10\r\n",
    "val = 1\r\n",
    "\r\n",
    "inc_number(my_number, val)\r\n",
    "print(my_number)"
   ],
   "outputs": [
    {
     "output_type": "stream",
     "name": "stdout",
     "text": [
      "10\n"
     ]
    }
   ],
   "metadata": {}
  },
  {
   "cell_type": "code",
   "execution_count": 3,
   "source": [
    "def increment_list1(lst, val):\r\n",
    "    for list_val in lst:\r\n",
    "        list_val += val"
   ],
   "outputs": [],
   "metadata": {}
  },
  {
   "cell_type": "code",
   "execution_count": 4,
   "source": [
    "my_list = [1, 2, 3]\r\n",
    "val = 1\r\n",
    "\r\n",
    "print(my_list)\r\n",
    "increment_list1(my_list, val)\r\n",
    "print(my_list)"
   ],
   "outputs": [
    {
     "output_type": "stream",
     "name": "stdout",
     "text": [
      "[1, 2, 3]\n",
      "[1, 2, 3]\n"
     ]
    }
   ],
   "metadata": {}
  },
  {
   "cell_type": "code",
   "execution_count": 5,
   "source": [
    "def increment_list2(lst, val):\r\n",
    "    for i in range(len(lst)):\r\n",
    "        lst[i] = lst[i] + val"
   ],
   "outputs": [],
   "metadata": {}
  },
  {
   "cell_type": "code",
   "execution_count": 6,
   "source": [
    "my_list2 = [1, 2, 3]\r\n",
    "val2 = 1\r\n",
    "\r\n",
    "print(my_list2)\r\n",
    "increment_list2(my_list2, val2)\r\n",
    "print(my_list2)"
   ],
   "outputs": [
    {
     "output_type": "stream",
     "name": "stdout",
     "text": [
      "[1, 2, 3]\n",
      "[2, 3, 4]\n"
     ]
    }
   ],
   "metadata": {}
  },
  {
   "cell_type": "markdown",
   "source": [
    "# In-Place Operations"
   ],
   "metadata": {}
  },
  {
   "cell_type": "code",
   "execution_count": 7,
   "source": [
    "def print_val_and_memory_address(val):\r\n",
    "    print(val, hex(id(val)))"
   ],
   "outputs": [],
   "metadata": {}
  },
  {
   "cell_type": "code",
   "execution_count": 8,
   "source": [
    "a = 4200\r\n",
    "print_val_and_memory_address(a)\r\n",
    "a = a + 1  # addition: __add__\r\n",
    "print_val_and_memory_address(a)\r\n",
    "a += 1  # in-place addtion: __iadd__\r\n",
    "print_val_and_memory_address(a)"
   ],
   "outputs": [
    {
     "output_type": "stream",
     "name": "stdout",
     "text": [
      "4200 0x1fa7eaa81f0\n",
      "4201 0x1fa7eaa82f0\n",
      "4202 0x1fa7eaa8090\n"
     ]
    }
   ],
   "metadata": {}
  },
  {
   "cell_type": "code",
   "execution_count": 9,
   "source": [
    "b = 1\r\n",
    "print_val_and_memory_address(b)\r\n",
    "b = b * 2\r\n",
    "print_val_and_memory_address(b)\r\n",
    "b *= 2\r\n",
    "print_val_and_memory_address(b)"
   ],
   "outputs": [
    {
     "output_type": "stream",
     "name": "stdout",
     "text": [
      "1 0x7ffbff1a2790\n",
      "2 0x7ffbff1a27b0\n",
      "4 0x7ffbff1a27f0\n"
     ]
    }
   ],
   "metadata": {}
  },
  {
   "cell_type": "code",
   "execution_count": 10,
   "source": [
    "t = (1,)\r\n",
    "print_val_and_memory_address(t)\r\n",
    "t = t + (2,)\r\n",
    "print_val_and_memory_address(t)\r\n",
    "t += (3,)\r\n",
    "print_val_and_memory_address(t)"
   ],
   "outputs": [
    {
     "output_type": "stream",
     "name": "stdout",
     "text": [
      "(1,) 0x1fa7e63aee0\n",
      "(1, 2) 0x1fa7d44ff80\n",
      "(1, 2, 3) 0x1fa5d88edc0\n"
     ]
    }
   ],
   "metadata": {}
  },
  {
   "cell_type": "code",
   "execution_count": 11,
   "source": [
    "l = [1]\r\n",
    "print_val_and_memory_address(l)\r\n",
    "l = l + [2]  # __add__\r\n",
    "print_val_and_memory_address(l)\r\n",
    "l += [3]  # __iadd__\r\n",
    "print_val_and_memory_address(l)"
   ],
   "outputs": [
    {
     "output_type": "stream",
     "name": "stdout",
     "text": [
      "[1] 0x1fa7eaa9d80\n",
      "[1, 2] 0x1fa5e9492c0\n",
      "[1, 2, 3] 0x1fa5e9492c0\n"
     ]
    }
   ],
   "metadata": {}
  },
  {
   "cell_type": "code",
   "execution_count": 12,
   "source": [
    "l2 = [1, 2, 3]\r\n",
    "print_val_and_memory_address(l2)\r\n",
    "l2 = l2 * 2  # __mul__\r\n",
    "print_val_and_memory_address(l2)\r\n",
    "l2 *= 2  # __imul__\r\n",
    "print_val_and_memory_address(l2)"
   ],
   "outputs": [
    {
     "output_type": "stream",
     "name": "stdout",
     "text": [
      "[1, 2, 3] 0x1fa7eaa9580\n",
      "[1, 2, 3, 1, 2, 3] 0x1fa5e932d80\n",
      "[1, 2, 3, 1, 2, 3, 1, 2, 3, 1, 2, 3] 0x1fa5e932d80\n"
     ]
    }
   ],
   "metadata": {}
  }
 ],
 "metadata": {
  "language_info": {
   "codemirror_mode": {
    "name": "ipython",
    "version": 3
   },
   "file_extension": ".py",
   "mimetype": "text/x-python",
   "name": "python",
   "nbconvert_exporter": "python",
   "pygments_lexer": "ipython3",
   "version": "3.8.10"
  },
  "orig_nbformat": 2,
  "kernelspec": {
   "name": "python3",
   "display_name": "Python 3.8.10 64-bit ('tensorflow': conda)"
  },
  "interpreter": {
   "hash": "4eab73af86a999baa7bf0153340022c78a9cea3be6d1f049b3c9a17993d56d0b"
  }
 },
 "nbformat": 4,
 "nbformat_minor": 2
}