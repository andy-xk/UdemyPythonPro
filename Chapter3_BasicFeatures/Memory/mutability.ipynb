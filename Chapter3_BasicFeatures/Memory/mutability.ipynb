{
 "nbformat": 4,
 "nbformat_minor": 2,
 "metadata": {
  "language_info": {
   "name": "python",
   "version": "3.8.10",
   "mimetype": "text/x-python",
   "codemirror_mode": {
    "name": "ipython",
    "version": 3
   },
   "pygments_lexer": "ipython3",
   "nbconvert_exporter": "python",
   "file_extension": ".py"
  },
  "orig_nbformat": 2,
  "file_extension": ".py",
  "mimetype": "text/x-python",
  "name": "python",
  "npconvert_exporter": "python",
  "pygments_lexer": "ipython3",
  "version": 3,
  "kernelspec": {
   "name": "python3",
   "display_name": "Python 3.8.10 64-bit ('tensorflow': conda)"
  },
  "interpreter": {
   "hash": "4eab73af86a999baa7bf0153340022c78a9cea3be6d1f049b3c9a17993d56d0b"
  }
 },
 "cells": [
  {
   "cell_type": "markdown",
   "source": [
    "# Mutability"
   ],
   "metadata": {}
  },
  {
   "cell_type": "code",
   "execution_count": 32,
   "source": [
    "def print_memory_address(var):\r\n",
    "    print(hex(id(var)))"
   ],
   "outputs": [],
   "metadata": {}
  },
  {
   "cell_type": "code",
   "execution_count": 29,
   "source": [
    "# Immutable types: int, float, bool, str, tuple\r\n",
    "# Mutable types: list, dict, set, etc."
   ],
   "outputs": [],
   "metadata": {}
  },
  {
   "cell_type": "code",
   "execution_count": 30,
   "source": [
    "my_list = [1, 2, 3]\r\n",
    "my_tuple = (1, 2, 3)\r\n",
    "\r\n",
    "print(my_list)\r\n",
    "print(my_tuple)\r\n",
    "\r\n",
    "my_tuple = my_list"
   ],
   "outputs": [
    {
     "output_type": "stream",
     "name": "stdout",
     "text": [
      "[1, 2, 3]\n",
      "(1, 2, 3)\n"
     ]
    }
   ],
   "metadata": {}
  },
  {
   "cell_type": "code",
   "execution_count": 31,
   "source": [
    "my_list[0] = -1\r\n",
    "# my_tuple[0] = -1"
   ],
   "outputs": [],
   "metadata": {}
  },
  {
   "cell_type": "code",
   "execution_count": 33,
   "source": [
    "my_int1 = 42\r\n",
    "print_memory_address(my_int1)\r\n",
    "my_int1 = my_int1 + 1\r\n",
    "print_memory_address(my_int1)"
   ],
   "outputs": [
    {
     "output_type": "stream",
     "name": "stdout",
     "text": [
      "0x7ffbffd22cb0\n",
      "0x7ffbffd22cd0\n"
     ]
    }
   ],
   "metadata": {}
  },
  {
   "cell_type": "code",
   "execution_count": 34,
   "source": [
    "my_list2 = [1, 2]\r\n",
    "print_memory_address(my_list2)\r\n",
    "my_list2.append(3)\r\n",
    "print_memory_address(my_list2)\r\n",
    "my_list2.pop()\r\n",
    "print_memory_address(my_list2)"
   ],
   "outputs": [
    {
     "output_type": "stream",
     "name": "stdout",
     "text": [
      "0x198bf8bc980\n",
      "0x198bf8bc980\n",
      "0x198bf8bc980\n"
     ]
    }
   ],
   "metadata": {}
  },
  {
   "cell_type": "code",
   "execution_count": null,
   "source": [
    "my_list2 = [5, 6]\r\n",
    "print_memory_address(my_list2)"
   ],
   "outputs": [],
   "metadata": {}
  }
 ]
}