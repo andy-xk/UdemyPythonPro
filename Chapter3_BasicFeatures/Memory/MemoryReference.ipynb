{
 "nbformat": 4,
 "nbformat_minor": 2,
 "metadata": {
  "language_info": {
   "name": "python",
   "version": "3.8.10",
   "mimetype": "text/x-python",
   "codemirror_mode": {
    "name": "ipython",
    "version": 3
   },
   "pygments_lexer": "ipython3",
   "nbconvert_exporter": "python",
   "file_extension": ".py"
  },
  "orig_nbformat": 2,
  "file_extension": ".py",
  "mimetype": "text/x-python",
  "name": "python",
  "npconvert_exporter": "python",
  "pygments_lexer": "ipython3",
  "version": 3,
  "kernelspec": {
   "name": "python3",
   "display_name": "Python 3.8.10 64-bit ('tensorflow': conda)"
  },
  "interpreter": {
   "hash": "4eab73af86a999baa7bf0153340022c78a9cea3be6d1f049b3c9a17993d56d0b"
  }
 },
 "cells": [
  {
   "cell_type": "code",
   "execution_count": 18,
   "source": [
    "def print_memory_address(var):\r\n",
    "    print(hex(id(var)))"
   ],
   "outputs": [],
   "metadata": {}
  },
  {
   "cell_type": "markdown",
   "source": [
    "# Variable Memory References"
   ],
   "metadata": {}
  },
  {
   "cell_type": "code",
   "execution_count": 19,
   "source": [
    "my_test_value = 10 # int(10)\r\n",
    "print_memory_address(my_test_value)"
   ],
   "outputs": [
    {
     "output_type": "stream",
     "name": "stdout",
     "text": [
      "0x7ffbfeb328b0\n"
     ]
    }
   ],
   "metadata": {}
  },
  {
   "cell_type": "code",
   "execution_count": 20,
   "source": [
    "my_int_value1 = 42\r\n",
    "my_int_value2 = 42\r\n",
    "my_int_value3 = 42\r\n",
    "\r\n",
    "print_memory_address(my_int_value1)\r\n",
    "print_memory_address(my_int_value2)\r\n",
    "print_memory_address(my_int_value3)"
   ],
   "outputs": [
    {
     "output_type": "stream",
     "name": "stdout",
     "text": [
      "0x7ffbfeb32cb0\n",
      "0x7ffbfeb32cb0\n",
      "0x7ffbfeb32cb0\n"
     ]
    }
   ],
   "metadata": {}
  },
  {
   "cell_type": "code",
   "execution_count": 21,
   "source": [
    "my_float_value1 = 42.0\r\n",
    "my_float_value2 = 42.0\r\n",
    "my_float_value3 = 42.0\r\n",
    "\r\n",
    "print_memory_address(my_float_value1)\r\n",
    "print_memory_address(my_float_value2)\r\n",
    "print_memory_address(my_float_value3)"
   ],
   "outputs": [
    {
     "output_type": "stream",
     "name": "stdout",
     "text": [
      "0x19b17b284d0\n",
      "0x19b17b28270\n",
      "0x19b17b28350\n"
     ]
    }
   ],
   "metadata": {}
  },
  {
   "cell_type": "code",
   "execution_count": 22,
   "source": [
    "my_bool1 = True\r\n",
    "my_bool2 = True\r\n",
    "\r\n",
    "print_memory_address(my_bool1)\r\n",
    "print_memory_address(my_bool2)"
   ],
   "outputs": [
    {
     "output_type": "stream",
     "name": "stdout",
     "text": [
      "0x7ffbfeaed750\n",
      "0x7ffbfeaed750\n"
     ]
    }
   ],
   "metadata": {}
  },
  {
   "cell_type": "code",
   "execution_count": 23,
   "source": [
    "my_bool1 = False\r\n",
    "my_bool2 = False\r\n",
    "\r\n",
    "print_memory_address(my_bool1)\r\n",
    "print_memory_address(my_bool2)"
   ],
   "outputs": [
    {
     "output_type": "stream",
     "name": "stdout",
     "text": [
      "0x7ffbfeaed770\n",
      "0x7ffbfeaed770\n"
     ]
    }
   ],
   "metadata": {}
  },
  {
   "cell_type": "code",
   "execution_count": 24,
   "source": [
    "my_none1 = None\r\n",
    "my_none2 = None\r\n",
    "\r\n",
    "print_memory_address(my_none1)\r\n",
    "print_memory_address(my_none2)"
   ],
   "outputs": [
    {
     "output_type": "stream",
     "name": "stdout",
     "text": [
      "0x7ffbfeaf9880\n",
      "0x7ffbfeaf9880\n"
     ]
    }
   ],
   "metadata": {}
  },
  {
   "cell_type": "code",
   "execution_count": 25,
   "source": [
    "my_list1 = [1, 2, 3]\r\n",
    "my_list2 = my_list1\r\n",
    "\r\n",
    "print(my_list1)\r\n",
    "print(my_list2)\r\n",
    "\r\n",
    "print_memory_address(my_list1)\r\n",
    "print_memory_address(my_list2)\r\n",
    "\r\n",
    "my_list1 = [-1, -2, -3]\r\n",
    "\r\n",
    "print_memory_address(my_list1)\r\n",
    "print_memory_address(my_list2)"
   ],
   "outputs": [
    {
     "output_type": "stream",
     "name": "stdout",
     "text": [
      "[1, 2, 3]\n",
      "[1, 2, 3]\n",
      "0x19b17a42140\n",
      "0x19b17a42140\n",
      "0x19b17b0c780\n",
      "0x19b17a42140\n"
     ]
    }
   ],
   "metadata": {}
  },
  {
   "cell_type": "code",
   "execution_count": 26,
   "source": [
    "a = 10\r\n",
    "b = 10\r\n",
    "\r\n",
    "print_memory_address(a)\r\n",
    "print_memory_address(b)\r\n",
    "print()\r\n",
    "\r\n",
    "b = 8\r\n",
    "\r\n",
    "print_memory_address(a)\r\n",
    "print_memory_address(b)\r\n",
    "print()\r\n",
    "\r\n",
    "b = 10\r\n",
    "\r\n",
    "print_memory_address(a)\r\n",
    "print_memory_address(b)\r\n",
    "print()\r\n",
    "\r\n",
    "a = 8\r\n",
    "b = 9\r\n",
    "\r\n",
    "print_memory_address(a)\r\n",
    "print_memory_address(b)\r\n",
    "print()\r\n",
    "\r\n",
    "a = 10\r\n",
    "b = 10\r\n",
    "\r\n",
    "print_memory_address(a)\r\n",
    "print_memory_address(b)\r\n",
    "print()"
   ],
   "outputs": [
    {
     "output_type": "stream",
     "name": "stdout",
     "text": [
      "0x7ffbfeb328b0\n",
      "0x7ffbfeb328b0\n",
      "\n",
      "0x7ffbfeb328b0\n",
      "0x7ffbfeb32870\n",
      "\n",
      "0x7ffbfeb328b0\n",
      "0x7ffbfeb328b0\n",
      "\n",
      "0x7ffbfeb32870\n",
      "0x7ffbfeb32890\n",
      "\n",
      "0x7ffbfeb328b0\n",
      "0x7ffbfeb328b0\n",
      "\n"
     ]
    }
   ],
   "metadata": {}
  },
  {
   "cell_type": "markdown",
   "source": [
    "# Part 2"
   ],
   "metadata": {}
  },
  {
   "cell_type": "code",
   "execution_count": 27,
   "source": [
    "my_int_val1 = 100\r\n",
    "my_int_val2 = 100\r\n",
    "\r\n",
    "print_memory_address(my_int_val1)\r\n",
    "print_memory_address(my_int_val2)"
   ],
   "outputs": [
    {
     "output_type": "stream",
     "name": "stdout",
     "text": [
      "0x7ffbfeb333f0\n",
      "0x7ffbfeb333f0\n"
     ]
    }
   ],
   "metadata": {}
  },
  {
   "cell_type": "code",
   "execution_count": 28,
   "source": [
    "my_int_val1 = 1000\r\n",
    "my_int_val2 = 1000\r\n",
    "\r\n",
    "print_memory_address(my_int_val1)\r\n",
    "print_memory_address(my_int_val2)"
   ],
   "outputs": [
    {
     "output_type": "stream",
     "name": "stdout",
     "text": [
      "0x19b17b285d0\n",
      "0x19b17b286d0\n"
     ]
    }
   ],
   "metadata": {}
  },
  {
   "cell_type": "code",
   "execution_count": 29,
   "source": [
    "my_list1 = []"
   ],
   "outputs": [],
   "metadata": {}
  },
  {
   "cell_type": "code",
   "execution_count": 30,
   "source": [
    "import random\r\n",
    "random.seed(42)\r\n",
    "\r\n",
    "def append_random_value(l):\r\n",
    "    l.append(random.randint(-100, 100))"
   ],
   "outputs": [],
   "metadata": {}
  },
  {
   "cell_type": "code",
   "execution_count": 31,
   "source": [
    "append_random_value(my_list1)"
   ],
   "outputs": [],
   "metadata": {}
  },
  {
   "cell_type": "code",
   "execution_count": 32,
   "source": [
    "print(my_list1)"
   ],
   "outputs": [
    {
     "output_type": "stream",
     "name": "stdout",
     "text": [
      "[63]\n"
     ]
    }
   ],
   "metadata": {}
  },
  {
   "cell_type": "code",
   "execution_count": 33,
   "source": [
    "def square_list(inner_list):\r\n",
    "    inner_list = [val**2 for val in inner_list]\r\n",
    "    return inner_list"
   ],
   "outputs": [],
   "metadata": {}
  },
  {
   "cell_type": "code",
   "execution_count": 34,
   "source": [
    "my_list2 = [1, 2, 3, 4, 5]\r\n",
    "\r\n",
    "my_squared_list = square_list(my_list2)\r\n",
    "\r\n",
    "print(my_list2)\r\n",
    "print(my_squared_list)"
   ],
   "outputs": [
    {
     "output_type": "stream",
     "name": "stdout",
     "text": [
      "[1, 2, 3, 4, 5]\n",
      "[1, 4, 9, 16, 25]\n"
     ]
    }
   ],
   "metadata": {}
  }
 ]
}