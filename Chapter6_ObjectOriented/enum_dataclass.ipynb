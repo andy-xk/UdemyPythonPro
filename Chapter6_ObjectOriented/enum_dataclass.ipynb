{
 "cells": [
  {
   "cell_type": "code",
   "execution_count": 69,
   "source": [
    "from enum import Enum\r\n",
    "from enum import IntEnum\r\n",
    "from enum import auto\r\n",
    "from dataclasses import dataclass"
   ],
   "outputs": [],
   "metadata": {}
  },
  {
   "cell_type": "markdown",
   "source": [
    "# Enum and Dataclass"
   ],
   "metadata": {}
  },
  {
   "cell_type": "markdown",
   "source": [
    "<div style=\"font-size:1.5em;\">\r\n",
    "\r\n",
    "Because Enums are used to represent constants we recommend using UPPER_CASE names for enum members, and will be using that style in our examples.\r\n",
    "\r\n",
    "</div>"
   ],
   "metadata": {}
  },
  {
   "cell_type": "code",
   "execution_count": 70,
   "source": [
    "class Colors(Enum):\r\n",
    "    RED = 1\r\n",
    "    GREEN = 2\r\n",
    "    BLUE = 3"
   ],
   "outputs": [],
   "metadata": {}
  },
  {
   "cell_type": "code",
   "execution_count": 71,
   "source": [
    "color = Colors.RED\r\n",
    "\r\n",
    "print(issubclass(Colors, int))"
   ],
   "outputs": [
    {
     "output_type": "stream",
     "name": "stdout",
     "text": [
      "False\n"
     ]
    }
   ],
   "metadata": {}
  },
  {
   "cell_type": "code",
   "execution_count": 72,
   "source": [
    "if (color == Colors.RED):\r\n",
    "    print(\"The color is red\")\r\n",
    "elif (color == Colors.GREEN):\r\n",
    "    print(\"The color is green\")\r\n",
    "elif (color == Colors.BLUE):\r\n",
    "    print(\"The color is blue\")"
   ],
   "outputs": [
    {
     "output_type": "stream",
     "name": "stdout",
     "text": [
      "The color is red\n"
     ]
    }
   ],
   "metadata": {}
  },
  {
   "cell_type": "code",
   "execution_count": 73,
   "source": [
    "class Colors2(IntEnum):\r\n",
    "    RED = 1\r\n",
    "    GREEN = 2\r\n",
    "    BLUE = 3"
   ],
   "outputs": [],
   "metadata": {}
  },
  {
   "cell_type": "code",
   "execution_count": 74,
   "source": [
    "color2 = Colors2.RED\r\n",
    "\r\n",
    "print(issubclass(Colors2, int))"
   ],
   "outputs": [
    {
     "output_type": "stream",
     "name": "stdout",
     "text": [
      "True\n"
     ]
    }
   ],
   "metadata": {}
  },
  {
   "cell_type": "code",
   "execution_count": 75,
   "source": [
    "if (color == Colors2.RED):\r\n",
    "    print(\"The color is red\")\r\n",
    "elif (color == Colors2.GREEN):\r\n",
    "    print(\"The color is green\")\r\n",
    "elif (color == Colors2.BLUE):\r\n",
    "    print(\"The color is blue\")"
   ],
   "outputs": [],
   "metadata": {}
  },
  {
   "cell_type": "code",
   "execution_count": 76,
   "source": [
    "class Colors3(Enum):\r\n",
    "    RED = auto()\r\n",
    "    GREEN = auto()\r\n",
    "    BLUE = auto()"
   ],
   "outputs": [],
   "metadata": {}
  },
  {
   "cell_type": "code",
   "execution_count": 77,
   "source": [
    "color3 = Colors3.RED\r\n",
    "\r\n",
    "print(list(Colors3))"
   ],
   "outputs": [
    {
     "output_type": "stream",
     "name": "stdout",
     "text": [
      "[<Colors3.RED: 1>, <Colors3.GREEN: 2>, <Colors3.BLUE: 3>]\n"
     ]
    }
   ],
   "metadata": {}
  },
  {
   "cell_type": "code",
   "execution_count": 78,
   "source": [
    "class User:\r\n",
    "    def __init__(self, name: str, age: int):\r\n",
    "        self.name = name\r\n",
    "        self.age = age"
   ],
   "outputs": [],
   "metadata": {}
  },
  {
   "cell_type": "code",
   "execution_count": 82,
   "source": [
    "@dataclass\r\n",
    "class UserDC:\r\n",
    "    name: str\r\n",
    "    age: int"
   ],
   "outputs": [],
   "metadata": {}
  },
  {
   "cell_type": "code",
   "execution_count": 83,
   "source": [
    "u1 = UserDC('jan', 27)\r\n",
    "\r\n",
    "print(u1)\r\n",
    "print(dir(u1))"
   ],
   "outputs": [
    {
     "output_type": "stream",
     "name": "stdout",
     "text": [
      "UserDC(name='jan', age=27)\n",
      "['__annotations__', '__class__', '__dataclass_fields__', '__dataclass_params__', '__delattr__', '__dict__', '__dir__', '__doc__', '__eq__', '__format__', '__ge__', '__getattribute__', '__gt__', '__hash__', '__init__', '__init_subclass__', '__le__', '__lt__', '__module__', '__ne__', '__new__', '__reduce__', '__reduce_ex__', '__repr__', '__setattr__', '__sizeof__', '__str__', '__subclasshook__', '__weakref__', 'age', 'name']\n"
     ]
    }
   ],
   "metadata": {}
  }
 ],
 "metadata": {
  "orig_nbformat": 4,
  "language_info": {
   "name": "python",
   "version": "3.8.10",
   "mimetype": "text/x-python",
   "codemirror_mode": {
    "name": "ipython",
    "version": 3
   },
   "pygments_lexer": "ipython3",
   "nbconvert_exporter": "python",
   "file_extension": ".py"
  },
  "kernelspec": {
   "name": "python3",
   "display_name": "Python 3.8.10 64-bit ('tensorflow': conda)"
  },
  "interpreter": {
   "hash": "4eab73af86a999baa7bf0153340022c78a9cea3be6d1f049b3c9a17993d56d0b"
  }
 },
 "nbformat": 4,
 "nbformat_minor": 2
}