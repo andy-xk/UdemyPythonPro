{
 "cells": [
  {
   "cell_type": "code",
   "execution_count": 1,
   "metadata": {},
   "outputs": [],
   "source": [
    "import numbers\n",
    "from math import sqrt\n",
    "from functools import total_ordering\n",
    "\n",
    "@total_ordering\n",
    "class Vector2D:\n",
    "    def __init__(self, x=0, y=0):\n",
    "        if isinstance(x, numbers.Real) and isinstance(y, numbers.Real):  \n",
    "            self.x = x\n",
    "            self.y = y\n",
    "        else:\n",
    "            raise TypeError('You must pass in int/float values for x and y!')\n",
    "\n",
    "    def __call__(self):\n",
    "        print(\"Calling the __call__ function!\")\n",
    "        return self.__repr__()\n",
    "\n",
    "    def __repr__(self):\n",
    "        return f'vector.Vector2D({self.x}, {self.y})'\n",
    "\n",
    "    def __str__(self):\n",
    "        return f'({self.x}, {self.y})'\n",
    "\n",
    "    def __bool__(self):\n",
    "        return bool(abs(self))\n",
    "\n",
    "    def __abs__(self):\n",
    "        return sqrt(pow(self.x, 2) + pow(self.y, 2))\n",
    "\n",
    "    def check_vector_types(self, vector2):\n",
    "        if not isinstance(self, Vector2D) or not isinstance(vector2, Vector2D):\n",
    "            raise TypeError('You have to pass in two instances of the vector class!')\n",
    "\n",
    "    def __eq__(self, other_vector):\n",
    "        self.check_vector_types(other_vector)\n",
    "        if self.x == other_vector.x and self.y == other_vector.y:\n",
    "            return True\n",
    "        else:\n",
    "            return False\n",
    "\n",
    "    def __lt__(self, other_vector):\n",
    "        self.check_vector_types(other_vector)\n",
    "        if abs(self) < abs(other_vector):\n",
    "            return True\n",
    "        else:\n",
    "            return False\n",
    "        \n",
    "    def __add__(self, other_vector):\n",
    "        self.check_vector_types(other_vector)\n",
    "        x = self.x + other_vector.x\n",
    "        y = self.y + other_vector.y\n",
    "        return Vector2D(x, y)\n",
    "\n",
    "    # try (== 1):\n",
    "    # except (>= 1): \n",
    "    # finally (optional): \n",
    "    def __sub__(self, other_vector):\n",
    "        try:\n",
    "            x = self.x - other_vector.x\n",
    "            y = self.y - other_vector.y\n",
    "            return Vector2D(x, y)\n",
    "        except AttributeError as e:\n",
    "            print(f\"AttributeError: {e} was raised!\")\n",
    "            return self\n",
    "        except Exception as e:\n",
    "            print(f\"Exception {type(e)}: {e} was raised!\")\n",
    "\n",
    "    def __mul__(self, other):\n",
    "        if isinstance(other, Vector2D):\n",
    "            return self.x * other.x + self.y * other.y\n",
    "        elif isinstance(other, numbers.Real):\n",
    "            return Vector2D(self.x * other, self.y * other)\n",
    "        else:\n",
    "            raise TypeError('You must pass in a vector instance or an int/float number!')\n",
    "\n",
    "    def __truediv__(self, other):\n",
    "        if isinstance(other, numbers.Real):\n",
    "            if other != 0.0:\n",
    "                return Vector2D(self.x / other, self.y / other)\n",
    "            else:\n",
    "                raise ValueError('You cannot divide by zero!')\n",
    "        else:\n",
    "            raise TypeError('You must pass in an int/float value!')"
   ]
  },
  {
   "cell_type": "code",
   "execution_count": 2,
   "metadata": {},
   "outputs": [],
   "source": [
    "v1 = Vector2D(3, 2)\n",
    "v2 = Vector2D(1, 2)"
   ]
  },
  {
   "cell_type": "code",
   "execution_count": 3,
   "metadata": {},
   "outputs": [
    {
     "name": "stdout",
     "output_type": "stream",
     "text": [
      "AttributeError: 'int' object has no attribute 'x' was raised!\n"
     ]
    },
    {
     "data": {
      "text/plain": [
       "vector.Vector2D(3, 2)"
      ]
     },
     "execution_count": 3,
     "metadata": {},
     "output_type": "execute_result"
    }
   ],
   "source": [
    "v1 - 2"
   ]
  }
 ],
 "metadata": {
  "file_extension": ".py",
  "interpreter": {
   "hash": "ef4ce19910938c421491e84375c43d450a079a1a865d40a0bc82f335363ab876"
  },
  "kernelspec": {
   "display_name": "Python 3.10.4 ('pyUdemy')",
   "language": "python",
   "name": "python3"
  },
  "language_info": {
   "codemirror_mode": {
    "name": "ipython",
    "version": 3
   },
   "file_extension": ".py",
   "mimetype": "text/x-python",
   "name": "python",
   "nbconvert_exporter": "python",
   "pygments_lexer": "ipython3",
   "version": "3.10.4"
  },
  "mimetype": "text/x-python",
  "name": "python",
  "npconvert_exporter": "python",
  "orig_nbformat": 2,
  "pygments_lexer": "ipython3",
  "version": 3
 },
 "nbformat": 4,
 "nbformat_minor": 2
}
