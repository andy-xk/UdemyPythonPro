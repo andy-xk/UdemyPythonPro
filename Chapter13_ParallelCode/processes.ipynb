{
 "cells": [
  {
   "cell_type": "code",
   "execution_count": 1,
   "metadata": {},
   "outputs": [],
   "source": [
    "from multiprocessing import Process\n",
    "import time\n",
    "import math"
   ]
  },
  {
   "cell_type": "markdown",
   "metadata": {},
   "source": [
    "# Processes"
   ]
  },
  {
   "cell_type": "markdown",
   "metadata": {},
   "source": [
    "The GIL wanted to protect shared data.\n",
    "\n",
    "Data is only chared between Threads but not Processes.\n",
    "\n",
    "Multi-Processing could speed up our program but:\n",
    "\n",
    "- Creating a process is slower than creating a thread\n",
    "- Each process has its on memory (copies are needed)"
   ]
  },
  {
   "cell_type": "code",
   "execution_count": 6,
   "metadata": {},
   "outputs": [],
   "source": [
    "numbers = [\n",
    "    1102023313711321,\n",
    "    2102023313556361,\n",
    "    2133132415198713,\n",
    "    2456241020233131,\n",
    "    2102124102331313,\n",
    "    2102023151513137,\n",
    "    2102023313112511,\n",
    "]"
   ]
  },
  {
   "cell_type": "code",
   "execution_count": 7,
   "metadata": {},
   "outputs": [],
   "source": [
    "def is_prime(n):\n",
    "    if n < 2:\n",
    "        return False\n",
    "    if n in (2, 3, 5, 7):\n",
    "        return True\n",
    "    if n % 2 == 0 or n % 3 == 0 or n % 5 == 0 or n % 7 == 0:\n",
    "        return False\n",
    "    upper_limit = int(math.sqrt(n)) + 1\n",
    "    for i in range(11, upper_limit, 2):\n",
    "        if n % i == 0:\n",
    "            return False\n",
    "    return True"
   ]
  },
  {
   "cell_type": "code",
   "execution_count": 8,
   "metadata": {},
   "outputs": [],
   "source": [
    "procceses = [Process(target=is_prime, args=(n,)) for n in numbers]"
   ]
  },
  {
   "cell_type": "code",
   "execution_count": 9,
   "metadata": {},
   "outputs": [
    {
     "name": "stdout",
     "output_type": "stream",
     "text": [
      "time: 336.5491 ms\n"
     ]
    }
   ],
   "source": [
    "start = time.perf_counter_ns()\n",
    "\n",
    "[p.start() for p in procceses]\n",
    "[p.join() for p in procceses]\n",
    "\n",
    "end = time.perf_counter_ns()\n",
    "print(f\"time: {(end - start) / 1000000.0} ms\")"
   ]
  },
  {
   "cell_type": "code",
   "execution_count": 10,
   "metadata": {},
   "outputs": [
    {
     "data": {
      "text/plain": [
       "[None, None, None, None, None, None, None]"
      ]
     },
     "execution_count": 10,
     "metadata": {},
     "output_type": "execute_result"
    }
   ],
   "source": [
    "[p.close() for p in procceses]"
   ]
  }
 ],
 "metadata": {
  "interpreter": {
   "hash": "ef4ce19910938c421491e84375c43d450a079a1a865d40a0bc82f335363ab876"
  },
  "kernelspec": {
   "display_name": "Python 3.10.4 ('pyUdemy')",
   "language": "python",
   "name": "python3"
  },
  "language_info": {
   "codemirror_mode": {
    "name": "ipython",
    "version": 3
   },
   "file_extension": ".py",
   "mimetype": "text/x-python",
   "name": "python",
   "nbconvert_exporter": "python",
   "pygments_lexer": "ipython3",
   "version": "3.10.4"
  },
  "orig_nbformat": 4
 },
 "nbformat": 4,
 "nbformat_minor": 2
}
