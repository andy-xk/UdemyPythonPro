{
 "cells": [
  {
   "cell_type": "code",
   "execution_count": 192,
   "source": [
    "from threading import Thread, Lock\r\n",
    "import time"
   ],
   "outputs": [],
   "metadata": {}
  },
  {
   "cell_type": "markdown",
   "source": [
    "# Threads"
   ],
   "metadata": {}
  },
  {
   "cell_type": "code",
   "execution_count": 193,
   "source": [
    "def worker(sleep_time: float) -> None:\r\n",
    "    print(\"Start worker\")\r\n",
    "    time.sleep(sleep_time)\r\n",
    "    print(\"End worker\")"
   ],
   "outputs": [],
   "metadata": {}
  },
  {
   "cell_type": "code",
   "execution_count": 194,
   "source": [
    "t1 = Thread(target=worker, name=\"t1\", args=(2.0,))"
   ],
   "outputs": [],
   "metadata": {}
  },
  {
   "cell_type": "code",
   "execution_count": 195,
   "source": [
    "print(f\"Ident: {t1.ident}\")\r\n",
    "print(f\"Alive: {t1.is_alive()}\")\r\n",
    "print(f\"Name: {t1.name}\")"
   ],
   "outputs": [
    {
     "output_type": "stream",
     "name": "stdout",
     "text": [
      "Ident: None\n",
      "Alive: False\n",
      "Name: t1\n"
     ]
    }
   ],
   "metadata": {}
  },
  {
   "cell_type": "code",
   "execution_count": 196,
   "source": [
    "t1.start()\r\n",
    "\r\n",
    "print(f\"Ident: {t1.ident}\")\r\n",
    "print(f\"Alive: {t1.is_alive()}\")\r\n",
    "print(f\"Name: {t1.name}\")\r\n",
    "\r\n",
    "t1.join()"
   ],
   "outputs": [
    {
     "output_type": "stream",
     "name": "stdout",
     "text": [
      "Start worker\n",
      "Ident: 24440\n",
      "Alive: True\n",
      "Name: t1\n",
      "End worker\n"
     ]
    }
   ],
   "metadata": {}
  },
  {
   "cell_type": "markdown",
   "source": [
    "# Shared Memory & Race Conditions"
   ],
   "metadata": {}
  },
  {
   "cell_type": "code",
   "execution_count": 197,
   "source": [
    "COUNTER = 0\r\n",
    "ITERATIONS = 100"
   ],
   "outputs": [],
   "metadata": {}
  },
  {
   "cell_type": "code",
   "execution_count": 198,
   "source": [
    "def worker2(n: int) -> None:\r\n",
    "    global COUNTER\r\n",
    "    for _ in range(n):\r\n",
    "        COUNTER += 1\r\n",
    "        time.sleep(0.001)"
   ],
   "outputs": [],
   "metadata": {}
  },
  {
   "cell_type": "code",
   "execution_count": 199,
   "source": [
    "threads = [Thread(target=worker2, args=(ITERATIONS,)) for _ in range(10)]"
   ],
   "outputs": [],
   "metadata": {}
  },
  {
   "cell_type": "code",
   "execution_count": 200,
   "source": [
    "[t.start() for t in threads]"
   ],
   "outputs": [
    {
     "output_type": "execute_result",
     "data": {
      "text/plain": [
       "[None, None, None, None, None, None, None, None, None, None]"
      ]
     },
     "metadata": {},
     "execution_count": 200
    }
   ],
   "metadata": {}
  },
  {
   "cell_type": "code",
   "execution_count": 201,
   "source": [
    "[t.join() for t in threads]"
   ],
   "outputs": [
    {
     "output_type": "execute_result",
     "data": {
      "text/plain": [
       "[None, None, None, None, None, None, None, None, None, None]"
      ]
     },
     "metadata": {},
     "execution_count": 201
    }
   ],
   "metadata": {}
  },
  {
   "cell_type": "code",
   "execution_count": 202,
   "source": [
    "try:\r\n",
    "    assert COUNTER == (len(threads) * ITERATIONS)\r\n",
    "except:\r\n",
    "    print(f\"Invalid value: {COUNTER}\")"
   ],
   "outputs": [],
   "metadata": {}
  },
  {
   "cell_type": "markdown",
   "source": [
    "# Lock"
   ],
   "metadata": {}
  },
  {
   "cell_type": "code",
   "execution_count": 203,
   "source": [
    "COUNTER = 0\r\n",
    "ITERATIONS = 100\r\n",
    "\r\n",
    "lock = Lock()"
   ],
   "outputs": [],
   "metadata": {}
  },
  {
   "cell_type": "code",
   "execution_count": 204,
   "source": [
    "def worker3(lock: Lock, n: int) -> None:\r\n",
    "    global COUNTER\r\n",
    "    for _ in range(n):\r\n",
    "        with lock: # __enter__: acquire, __exit__: release\r\n",
    "            COUNTER += 1\r\n",
    "        time.sleep(0.001)"
   ],
   "outputs": [],
   "metadata": {}
  },
  {
   "cell_type": "code",
   "execution_count": 205,
   "source": [
    "threads = [Thread(target=worker3, args=(lock, ITERATIONS,)) for _ in range(10)]"
   ],
   "outputs": [],
   "metadata": {}
  },
  {
   "cell_type": "code",
   "execution_count": 206,
   "source": [
    "[t.start() for t in threads]"
   ],
   "outputs": [
    {
     "output_type": "execute_result",
     "data": {
      "text/plain": [
       "[None, None, None, None, None, None, None, None, None, None]"
      ]
     },
     "metadata": {},
     "execution_count": 206
    }
   ],
   "metadata": {}
  },
  {
   "cell_type": "code",
   "execution_count": 207,
   "source": [
    "[t.join() for t in threads]"
   ],
   "outputs": [
    {
     "output_type": "execute_result",
     "data": {
      "text/plain": [
       "[None, None, None, None, None, None, None, None, None, None]"
      ]
     },
     "metadata": {},
     "execution_count": 207
    }
   ],
   "metadata": {}
  },
  {
   "cell_type": "code",
   "execution_count": 208,
   "source": [
    "try:\r\n",
    "    assert COUNTER == (len(threads) * ITERATIONS)\r\n",
    "except:\r\n",
    "    print(f\"Invalid value: {COUNTER}\")"
   ],
   "outputs": [],
   "metadata": {}
  },
  {
   "cell_type": "markdown",
   "source": [
    "<div style=\"font-size:1.5em\">\r\n",
    "\r\n",
    "Note: Locks are not the universal solution without problems.\r\n",
    "\r\n",
    "With Locks thee might be Deadlocks.\r\n",
    "\r\n",
    "</div>"
   ],
   "metadata": {}
  }
 ],
 "metadata": {
  "orig_nbformat": 4,
  "language_info": {
   "name": "python",
   "version": "3.8.10",
   "mimetype": "text/x-python",
   "codemirror_mode": {
    "name": "ipython",
    "version": 3
   },
   "pygments_lexer": "ipython3",
   "nbconvert_exporter": "python",
   "file_extension": ".py"
  },
  "kernelspec": {
   "name": "python3",
   "display_name": "Python 3.8.10 64-bit"
  },
  "interpreter": {
   "hash": "4eab73af86a999baa7bf0153340022c78a9cea3be6d1f049b3c9a17993d56d0b"
  }
 },
 "nbformat": 4,
 "nbformat_minor": 2
}