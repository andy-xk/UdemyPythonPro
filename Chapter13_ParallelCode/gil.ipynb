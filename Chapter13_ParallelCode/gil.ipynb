{
 "cells": [
  {
   "cell_type": "code",
   "execution_count": 33,
   "source": [
    "from threading import Thread, Lock\r\n",
    "from queue import Queue\r\n",
    "import time\r\n",
    "import math"
   ],
   "outputs": [],
   "metadata": {}
  },
  {
   "cell_type": "markdown",
   "source": [
    "# GIL: Global Interpreter Lock"
   ],
   "metadata": {}
  },
  {
   "cell_type": "code",
   "execution_count": 34,
   "source": [
    "numbers = [\r\n",
    "    21020233137,\r\n",
    "    21020233135,\r\n",
    "    21020233133,\r\n",
    "    21020233131,\r\n",
    "    210202331313,\r\n",
    "    21020233137,\r\n",
    "    21020233131,\r\n",
    "]"
   ],
   "outputs": [],
   "metadata": {}
  },
  {
   "cell_type": "code",
   "execution_count": 35,
   "source": [
    "def is_prime(n):\r\n",
    "    if n in (2, 3, 5, 7, 11, 13, 17, 19):\r\n",
    "        return True\r\n",
    "    for i in range(21, int(math.sqrt(n)), 2):\r\n",
    "        if n % i == 0:\r\n",
    "            return False\r\n",
    "    return True"
   ],
   "outputs": [],
   "metadata": {}
  },
  {
   "cell_type": "code",
   "execution_count": 36,
   "source": [
    "start = time.perf_counter_ns()\r\n",
    "\r\n",
    "for number in numbers:\r\n",
    "    is_prime(number)\r\n",
    "\r\n",
    "end = time.perf_counter_ns()\r\n",
    "print(f\"time: {(end - start) / 1000.0} us\")"
   ],
   "outputs": [
    {
     "output_type": "stream",
     "name": "stdout",
     "text": [
      "time: 4492.4 us\n"
     ]
    }
   ],
   "metadata": {}
  },
  {
   "cell_type": "code",
   "execution_count": 37,
   "source": [
    "threads = [Thread(target=is_prime, args=(number,)) for number in numbers]"
   ],
   "outputs": [],
   "metadata": {}
  },
  {
   "cell_type": "code",
   "execution_count": 38,
   "source": [
    "start = time.perf_counter_ns()\r\n",
    "\r\n",
    "[t.start() for t in threads]\r\n",
    "[t.join() for t in threads]\r\n",
    "\r\n",
    "end = time.perf_counter_ns()\r\n",
    "print(f\"time: {(end - start) / 1000.0} us\")"
   ],
   "outputs": [
    {
     "output_type": "stream",
     "name": "stdout",
     "text": [
      "time: 5666.4 us\n"
     ]
    }
   ],
   "metadata": {}
  },
  {
   "cell_type": "code",
   "execution_count": null,
   "source": [],
   "outputs": [],
   "metadata": {}
  }
 ],
 "metadata": {
  "orig_nbformat": 4,
  "language_info": {
   "name": "python",
   "version": "3.8.10",
   "mimetype": "text/x-python",
   "codemirror_mode": {
    "name": "ipython",
    "version": 3
   },
   "pygments_lexer": "ipython3",
   "nbconvert_exporter": "python",
   "file_extension": ".py"
  },
  "kernelspec": {
   "name": "python3",
   "display_name": "Python 3.8.10 64-bit"
  },
  "interpreter": {
   "hash": "4eab73af86a999baa7bf0153340022c78a9cea3be6d1f049b3c9a17993d56d0b"
  }
 },
 "nbformat": 4,
 "nbformat_minor": 2
}